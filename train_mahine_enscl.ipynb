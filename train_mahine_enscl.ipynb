{
 "cells": [
  {
   "cell_type": "code",
   "id": "initial_id",
   "metadata": {
    "collapsed": true,
    "ExecuteTime": {
     "end_time": "2024-10-11T03:19:50.301728Z",
     "start_time": "2024-10-11T03:19:48.571875Z"
    }
   },
   "source": [
    "import numpy as np\n",
    "import pandas as pd\n",
    "from sklearn.model_selection import train_test_split\n",
    "from sklearn.preprocessing import StandardScaler\n",
    "from sklearn.ensemble import RandomForestClassifier\n",
    "from sklearn.metrics import accuracy_score, classification_report\n",
    "import joblib"
   ],
   "outputs": [],
   "execution_count": 1
  },
  {
   "metadata": {
    "ExecuteTime": {
     "end_time": "2024-10-11T03:19:50.317719Z",
     "start_time": "2024-10-11T03:19:50.305726Z"
    }
   },
   "cell_type": "code",
   "source": [
    "def load_data(data_path):\n",
    "    # 这里假设数据是CSV格式\n",
    "    data = pd.read_csv(data_path)\n",
    "    return data"
   ],
   "id": "3684b2daa0d92cfe",
   "outputs": [],
   "execution_count": 2
  },
  {
   "metadata": {
    "ExecuteTime": {
     "end_time": "2024-10-11T03:19:50.332710Z",
     "start_time": "2024-10-11T03:19:50.320718Z"
    }
   },
   "cell_type": "code",
   "source": [
    "def split_data(data):\n",
    "    X = data.iloc[:, :-1]  # 所有特征列\n",
    "    y = data.iloc[:, -1]  # 标签列\n",
    "\n",
    "    # 分割数据集为训练集和测试集\n",
    "    X_train, X_test, y_train, y_test = train_test_split(X, y, test_size=0.2, random_state=42)\n",
    "\n",
    "    return X_train, X_test, y_train, y_test"
   ],
   "id": "1e63f5e8e04d8c27",
   "outputs": [],
   "execution_count": 3
  },
  {
   "metadata": {
    "ExecuteTime": {
     "end_time": "2024-10-11T03:19:52.340962Z",
     "start_time": "2024-10-11T03:19:50.335709Z"
    }
   },
   "cell_type": "code",
   "source": [
    " data = load_data('../data/en_features_scl.csv')"
   ],
   "id": "8ad74203d29d05db",
   "outputs": [],
   "execution_count": 4
  },
  {
   "metadata": {
    "ExecuteTime": {
     "end_time": "2024-10-11T03:19:52.418670Z",
     "start_time": "2024-10-11T03:19:52.347960Z"
    }
   },
   "cell_type": "code",
   "source": "data.info()",
   "id": "a58c5cfe7e87e5c8",
   "outputs": [
    {
     "name": "stdout",
     "output_type": "stream",
     "text": [
      "<class 'pandas.core.frame.DataFrame'>\n",
      "RangeIndex: 9295 entries, 0 to 9294\n",
      "Columns: 993 entries, 0 to Label\n",
      "dtypes: float64(992), int64(1)\n",
      "memory usage: 70.4 MB\n"
     ]
    }
   ],
   "execution_count": 5
  },
  {
   "metadata": {
    "ExecuteTime": {
     "end_time": "2024-10-11T03:19:52.466624Z",
     "start_time": "2024-10-11T03:19:52.421649Z"
    }
   },
   "cell_type": "code",
   "source": "data.head(5)",
   "id": "97ab9f24f5107ea6",
   "outputs": [
    {
     "data": {
      "text/plain": [
       "          0         1         2         3         4         5         6  \\\n",
       "0  0.917893 -0.446911  0.165036 -0.862138  0.346598 -0.076533 -0.954673   \n",
       "1  0.067741  0.416022 -0.634130  0.036708  0.897156  0.164955 -0.421121   \n",
       "2  0.907648 -0.110102  0.939094 -0.921174 -0.768509  0.397498 -0.929780   \n",
       "3  0.958276 -0.042656  0.483127 -0.886986  0.281154  0.289998 -0.964709   \n",
       "4 -0.240267  0.365375 -0.741992  0.218018  0.920943  0.033666 -0.085969   \n",
       "\n",
       "          7         8         9  ...       983       984       985       986  \\\n",
       "0  0.497804 -0.036434  0.772667  ...  0.008139  0.000000  0.274141  0.128219   \n",
       "1 -0.572758  0.290052  0.811190  ...  0.907365  1.164968  0.920369  0.659421   \n",
       "2  0.359127  0.749208  0.987719  ...  0.064376  0.118219  0.358266  0.118669   \n",
       "3  0.096086  0.098463  0.995674  ...  0.387142  0.475762  0.731020  0.694133   \n",
       "4 -0.576424  0.183722  0.535149  ...  0.780262  1.157436  0.887722  0.665232   \n",
       "\n",
       "        987       988       989       990       991  Label  \n",
       "0  0.000000  0.000000  0.000000  0.714060  0.194853      0  \n",
       "1  0.597890  2.071712  0.602551  0.699861  1.366862      2  \n",
       "2  0.332982  0.000000  0.000000  0.636300  0.293007      0  \n",
       "3  0.369052  2.000726  0.314952  0.955568  0.910409      0  \n",
       "4  0.791488  2.101362  0.560659  0.597252  1.407343      2  \n",
       "\n",
       "[5 rows x 993 columns]"
      ],
      "text/html": [
       "<div>\n",
       "<style scoped>\n",
       "    .dataframe tbody tr th:only-of-type {\n",
       "        vertical-align: middle;\n",
       "    }\n",
       "\n",
       "    .dataframe tbody tr th {\n",
       "        vertical-align: top;\n",
       "    }\n",
       "\n",
       "    .dataframe thead th {\n",
       "        text-align: right;\n",
       "    }\n",
       "</style>\n",
       "<table border=\"1\" class=\"dataframe\">\n",
       "  <thead>\n",
       "    <tr style=\"text-align: right;\">\n",
       "      <th></th>\n",
       "      <th>0</th>\n",
       "      <th>1</th>\n",
       "      <th>2</th>\n",
       "      <th>3</th>\n",
       "      <th>4</th>\n",
       "      <th>5</th>\n",
       "      <th>6</th>\n",
       "      <th>7</th>\n",
       "      <th>8</th>\n",
       "      <th>9</th>\n",
       "      <th>...</th>\n",
       "      <th>983</th>\n",
       "      <th>984</th>\n",
       "      <th>985</th>\n",
       "      <th>986</th>\n",
       "      <th>987</th>\n",
       "      <th>988</th>\n",
       "      <th>989</th>\n",
       "      <th>990</th>\n",
       "      <th>991</th>\n",
       "      <th>Label</th>\n",
       "    </tr>\n",
       "  </thead>\n",
       "  <tbody>\n",
       "    <tr>\n",
       "      <th>0</th>\n",
       "      <td>0.917893</td>\n",
       "      <td>-0.446911</td>\n",
       "      <td>0.165036</td>\n",
       "      <td>-0.862138</td>\n",
       "      <td>0.346598</td>\n",
       "      <td>-0.076533</td>\n",
       "      <td>-0.954673</td>\n",
       "      <td>0.497804</td>\n",
       "      <td>-0.036434</td>\n",
       "      <td>0.772667</td>\n",
       "      <td>...</td>\n",
       "      <td>0.008139</td>\n",
       "      <td>0.000000</td>\n",
       "      <td>0.274141</td>\n",
       "      <td>0.128219</td>\n",
       "      <td>0.000000</td>\n",
       "      <td>0.000000</td>\n",
       "      <td>0.000000</td>\n",
       "      <td>0.714060</td>\n",
       "      <td>0.194853</td>\n",
       "      <td>0</td>\n",
       "    </tr>\n",
       "    <tr>\n",
       "      <th>1</th>\n",
       "      <td>0.067741</td>\n",
       "      <td>0.416022</td>\n",
       "      <td>-0.634130</td>\n",
       "      <td>0.036708</td>\n",
       "      <td>0.897156</td>\n",
       "      <td>0.164955</td>\n",
       "      <td>-0.421121</td>\n",
       "      <td>-0.572758</td>\n",
       "      <td>0.290052</td>\n",
       "      <td>0.811190</td>\n",
       "      <td>...</td>\n",
       "      <td>0.907365</td>\n",
       "      <td>1.164968</td>\n",
       "      <td>0.920369</td>\n",
       "      <td>0.659421</td>\n",
       "      <td>0.597890</td>\n",
       "      <td>2.071712</td>\n",
       "      <td>0.602551</td>\n",
       "      <td>0.699861</td>\n",
       "      <td>1.366862</td>\n",
       "      <td>2</td>\n",
       "    </tr>\n",
       "    <tr>\n",
       "      <th>2</th>\n",
       "      <td>0.907648</td>\n",
       "      <td>-0.110102</td>\n",
       "      <td>0.939094</td>\n",
       "      <td>-0.921174</td>\n",
       "      <td>-0.768509</td>\n",
       "      <td>0.397498</td>\n",
       "      <td>-0.929780</td>\n",
       "      <td>0.359127</td>\n",
       "      <td>0.749208</td>\n",
       "      <td>0.987719</td>\n",
       "      <td>...</td>\n",
       "      <td>0.064376</td>\n",
       "      <td>0.118219</td>\n",
       "      <td>0.358266</td>\n",
       "      <td>0.118669</td>\n",
       "      <td>0.332982</td>\n",
       "      <td>0.000000</td>\n",
       "      <td>0.000000</td>\n",
       "      <td>0.636300</td>\n",
       "      <td>0.293007</td>\n",
       "      <td>0</td>\n",
       "    </tr>\n",
       "    <tr>\n",
       "      <th>3</th>\n",
       "      <td>0.958276</td>\n",
       "      <td>-0.042656</td>\n",
       "      <td>0.483127</td>\n",
       "      <td>-0.886986</td>\n",
       "      <td>0.281154</td>\n",
       "      <td>0.289998</td>\n",
       "      <td>-0.964709</td>\n",
       "      <td>0.096086</td>\n",
       "      <td>0.098463</td>\n",
       "      <td>0.995674</td>\n",
       "      <td>...</td>\n",
       "      <td>0.387142</td>\n",
       "      <td>0.475762</td>\n",
       "      <td>0.731020</td>\n",
       "      <td>0.694133</td>\n",
       "      <td>0.369052</td>\n",
       "      <td>2.000726</td>\n",
       "      <td>0.314952</td>\n",
       "      <td>0.955568</td>\n",
       "      <td>0.910409</td>\n",
       "      <td>0</td>\n",
       "    </tr>\n",
       "    <tr>\n",
       "      <th>4</th>\n",
       "      <td>-0.240267</td>\n",
       "      <td>0.365375</td>\n",
       "      <td>-0.741992</td>\n",
       "      <td>0.218018</td>\n",
       "      <td>0.920943</td>\n",
       "      <td>0.033666</td>\n",
       "      <td>-0.085969</td>\n",
       "      <td>-0.576424</td>\n",
       "      <td>0.183722</td>\n",
       "      <td>0.535149</td>\n",
       "      <td>...</td>\n",
       "      <td>0.780262</td>\n",
       "      <td>1.157436</td>\n",
       "      <td>0.887722</td>\n",
       "      <td>0.665232</td>\n",
       "      <td>0.791488</td>\n",
       "      <td>2.101362</td>\n",
       "      <td>0.560659</td>\n",
       "      <td>0.597252</td>\n",
       "      <td>1.407343</td>\n",
       "      <td>2</td>\n",
       "    </tr>\n",
       "  </tbody>\n",
       "</table>\n",
       "<p>5 rows × 993 columns</p>\n",
       "</div>"
      ]
     },
     "execution_count": 6,
     "metadata": {},
     "output_type": "execute_result"
    }
   ],
   "execution_count": 6
  },
  {
   "metadata": {
    "ExecuteTime": {
     "end_time": "2024-10-11T03:19:52.577560Z",
     "start_time": "2024-10-11T03:19:52.468623Z"
    }
   },
   "cell_type": "code",
   "source": "X_train, X_test, y_train, y_test = split_data(data)",
   "id": "3ea1a2318384c92b",
   "outputs": [],
   "execution_count": 7
  },
  {
   "metadata": {
    "ExecuteTime": {
     "end_time": "2024-10-11T03:19:52.640532Z",
     "start_time": "2024-10-11T03:19:52.579559Z"
    }
   },
   "cell_type": "code",
   "source": "X_train.info()",
   "id": "6b71d51a9c8a8345",
   "outputs": [
    {
     "name": "stdout",
     "output_type": "stream",
     "text": [
      "<class 'pandas.core.frame.DataFrame'>\n",
      "Int64Index: 7436 entries, 7485 to 7270\n",
      "Columns: 992 entries, 0 to 991\n",
      "dtypes: float64(992)\n",
      "memory usage: 56.3 MB\n"
     ]
    }
   ],
   "execution_count": 8
  },
  {
   "metadata": {
    "ExecuteTime": {
     "end_time": "2024-10-11T03:19:52.656515Z",
     "start_time": "2024-10-11T03:19:52.642523Z"
    }
   },
   "cell_type": "code",
   "source": [
    "def save_model(model, model_path):\n",
    "    joblib.dump(model, model_path)\n",
    "\n",
    "\n",
    "# 模型加载\n",
    "def load_model(model_path):\n",
    "    model = joblib.load(model_path)\n",
    "    return model"
   ],
   "id": "9f810558940c05d2",
   "outputs": [],
   "execution_count": 9
  },
  {
   "metadata": {
    "ExecuteTime": {
     "end_time": "2024-10-11T03:19:52.672533Z",
     "start_time": "2024-10-11T03:19:52.658514Z"
    }
   },
   "cell_type": "code",
   "source": "X_train.iloc[0].info()",
   "id": "1a3b2d22e0e86c2e",
   "outputs": [
    {
     "name": "stdout",
     "output_type": "stream",
     "text": [
      "<class 'pandas.core.series.Series'>\n",
      "Index: 992 entries, 0 to 991\n",
      "Series name: 7485\n",
      "Non-Null Count  Dtype  \n",
      "--------------  -----  \n",
      "992 non-null    float64\n",
      "dtypes: float64(1)\n",
      "memory usage: 47.8+ KB\n"
     ]
    }
   ],
   "execution_count": 10
  },
  {
   "metadata": {},
   "cell_type": "markdown",
   "source": "test_model = load_model('./machine_model_pt/rf_model_en.pkl')",
   "id": "be437bcc78f193d3"
  },
  {
   "metadata": {},
   "cell_type": "markdown",
   "source": [
    "# 查看训练后模型的特征数量\n",
    "print(test_model.n_features_in_)\n"
   ],
   "id": "c1e50f5ae1c4bbd1"
  },
  {
   "metadata": {
    "ExecuteTime": {
     "end_time": "2024-10-11T03:19:52.688520Z",
     "start_time": "2024-10-11T03:19:52.674506Z"
    }
   },
   "cell_type": "code",
   "source": "type(pd.DataFrame(X_train.iloc[0]))",
   "id": "c70171474de43f49",
   "outputs": [
    {
     "data": {
      "text/plain": [
       "pandas.core.frame.DataFrame"
      ]
     },
     "execution_count": 11,
     "metadata": {},
     "output_type": "execute_result"
    }
   ],
   "execution_count": 11
  },
  {
   "metadata": {
    "ExecuteTime": {
     "end_time": "2024-10-11T03:19:52.750488Z",
     "start_time": "2024-10-11T03:19:52.691496Z"
    }
   },
   "cell_type": "code",
   "source": "pd.DataFrame(X_train.iloc[0]).T",
   "id": "ce92b4b8b30d08cd",
   "outputs": [
    {
     "data": {
      "text/plain": [
       "             0         1         2         3         4         5         6  \\\n",
       "7485 -0.060317  0.285803 -0.721763  0.046385  0.905387  0.025148 -0.183045   \n",
       "\n",
       "             7       8         9  ...       982       983       984       985  \\\n",
       "7485 -0.519955  0.3299  0.509422  ...  1.440313  0.891747  1.073319  0.849709   \n",
       "\n",
       "           986       987       988       989       990       991  \n",
       "7485  0.624339  0.714614  2.120273  0.630238  0.607971  1.412452  \n",
       "\n",
       "[1 rows x 992 columns]"
      ],
      "text/html": [
       "<div>\n",
       "<style scoped>\n",
       "    .dataframe tbody tr th:only-of-type {\n",
       "        vertical-align: middle;\n",
       "    }\n",
       "\n",
       "    .dataframe tbody tr th {\n",
       "        vertical-align: top;\n",
       "    }\n",
       "\n",
       "    .dataframe thead th {\n",
       "        text-align: right;\n",
       "    }\n",
       "</style>\n",
       "<table border=\"1\" class=\"dataframe\">\n",
       "  <thead>\n",
       "    <tr style=\"text-align: right;\">\n",
       "      <th></th>\n",
       "      <th>0</th>\n",
       "      <th>1</th>\n",
       "      <th>2</th>\n",
       "      <th>3</th>\n",
       "      <th>4</th>\n",
       "      <th>5</th>\n",
       "      <th>6</th>\n",
       "      <th>7</th>\n",
       "      <th>8</th>\n",
       "      <th>9</th>\n",
       "      <th>...</th>\n",
       "      <th>982</th>\n",
       "      <th>983</th>\n",
       "      <th>984</th>\n",
       "      <th>985</th>\n",
       "      <th>986</th>\n",
       "      <th>987</th>\n",
       "      <th>988</th>\n",
       "      <th>989</th>\n",
       "      <th>990</th>\n",
       "      <th>991</th>\n",
       "    </tr>\n",
       "  </thead>\n",
       "  <tbody>\n",
       "    <tr>\n",
       "      <th>7485</th>\n",
       "      <td>-0.060317</td>\n",
       "      <td>0.285803</td>\n",
       "      <td>-0.721763</td>\n",
       "      <td>0.046385</td>\n",
       "      <td>0.905387</td>\n",
       "      <td>0.025148</td>\n",
       "      <td>-0.183045</td>\n",
       "      <td>-0.519955</td>\n",
       "      <td>0.3299</td>\n",
       "      <td>0.509422</td>\n",
       "      <td>...</td>\n",
       "      <td>1.440313</td>\n",
       "      <td>0.891747</td>\n",
       "      <td>1.073319</td>\n",
       "      <td>0.849709</td>\n",
       "      <td>0.624339</td>\n",
       "      <td>0.714614</td>\n",
       "      <td>2.120273</td>\n",
       "      <td>0.630238</td>\n",
       "      <td>0.607971</td>\n",
       "      <td>1.412452</td>\n",
       "    </tr>\n",
       "  </tbody>\n",
       "</table>\n",
       "<p>1 rows × 992 columns</p>\n",
       "</div>"
      ]
     },
     "execution_count": 12,
     "metadata": {},
     "output_type": "execute_result"
    }
   ],
   "execution_count": 12
  },
  {
   "metadata": {},
   "cell_type": "markdown",
   "source": "test_model.predict(pd.DataFrame(X_train.iloc[0]).T)",
   "id": "40a79a357759ec96"
  },
  {
   "metadata": {
    "ExecuteTime": {
     "end_time": "2024-10-11T03:19:52.781470Z",
     "start_time": "2024-10-11T03:19:52.753461Z"
    }
   },
   "cell_type": "code",
   "source": [
    "import re\n",
    "\n",
    "from sklearn.metrics import precision_score, recall_score, f1_score, accuracy_score\n",
    "def evaluate_model(model, X_test, y_test):\n",
    "    predictions = model.predict(X_test)\n",
    "    accuracy = accuracy_score(y_test, predictions)\n",
    "    report = classification_report(y_test, predictions)\n",
    "\n",
    "    precision= precision_score(y_test, predictions,average='macro')\n",
    "    recall = recall_score(y_test, predictions,average='macro')\n",
    "    f1 = f1_score(y_test, predictions,average='macro')\n",
    "    print(f\"Accuracy: {accuracy:.4f}\")\n",
    "    print(f\"Precision: {precision:.4f}\")\n",
    "    print(f\"Recall: {recall:.4f}\")\n",
    "    print(f\"F1: {f1:.4f}\")\n",
    "    print(f\"Classification Report:\\n{report}\")"
   ],
   "id": "4cd0dfd4f0c8910c",
   "outputs": [],
   "execution_count": 13
  },
  {
   "metadata": {
    "ExecuteTime": {
     "end_time": "2024-10-11T03:19:52.797456Z",
     "start_time": "2024-10-11T03:19:52.784443Z"
    }
   },
   "cell_type": "code",
   "source": [
    "# 模型训练\n",
    "def train_model(X_train, y_train):\n",
    "    # 这里使用随机森林分类器作为例子\n",
    "    model = RandomForestClassifier(n_estimators=100, random_state=42)\n",
    "    model.fit(X_train, y_train)\n",
    "    return model"
   ],
   "id": "1f417c74c9e487d0",
   "outputs": [],
   "execution_count": 14
  },
  {
   "metadata": {
    "ExecuteTime": {
     "end_time": "2024-10-11T03:20:20.314260Z",
     "start_time": "2024-10-11T03:19:52.808429Z"
    }
   },
   "cell_type": "code",
   "source": "model = train_model(X_train, y_train)",
   "id": "6342787afdcb4e1e",
   "outputs": [],
   "execution_count": 15
  },
  {
   "metadata": {
    "ExecuteTime": {
     "end_time": "2024-10-11T03:20:20.392034Z",
     "start_time": "2024-10-11T03:20:20.317264Z"
    }
   },
   "cell_type": "code",
   "source": "evaluate_model(model, X_test, y_test)",
   "id": "b413b8875b79944d",
   "outputs": [
    {
     "name": "stdout",
     "output_type": "stream",
     "text": [
      "Accuracy: 0.9758\n",
      "Precision: 0.9761\n",
      "Recall: 0.9761\n",
      "F1: 0.9761\n",
      "Classification Report:\n",
      "              precision    recall  f1-score   support\n",
      "\n",
      "           0       0.97      0.97      0.97       668\n",
      "           1       0.97      0.97      0.97       617\n",
      "           2       0.98      0.99      0.99       574\n",
      "\n",
      "    accuracy                           0.98      1859\n",
      "   macro avg       0.98      0.98      0.98      1859\n",
      "weighted avg       0.98      0.98      0.98      1859\n",
      "\n"
     ]
    }
   ],
   "execution_count": 16
  },
  {
   "metadata": {
    "ExecuteTime": {
     "end_time": "2024-10-11T03:20:20.487980Z",
     "start_time": "2024-10-11T03:20:20.395032Z"
    }
   },
   "cell_type": "code",
   "source": "save_model(model,\"machine_model_pt/rf_model_en.pkl\")",
   "id": "5a6b29f6060ba9bb",
   "outputs": [],
   "execution_count": 17
  },
  {
   "metadata": {
    "ExecuteTime": {
     "end_time": "2024-10-11T03:20:20.503972Z",
     "start_time": "2024-10-11T03:20:20.490978Z"
    }
   },
   "cell_type": "code",
   "source": "from sklearn.svm import SVC",
   "id": "8d76a52226d5da6d",
   "outputs": [],
   "execution_count": 18
  },
  {
   "metadata": {
    "ExecuteTime": {
     "end_time": "2024-10-11T03:20:20.518964Z",
     "start_time": "2024-10-11T03:20:20.506969Z"
    }
   },
   "cell_type": "code",
   "source": "svm_model = SVC(kernel='rbf', C=1.0, gamma='scale', class_weight='balanced', random_state=42,probability=True)",
   "id": "80b00afd8067cdc3",
   "outputs": [],
   "execution_count": 19
  },
  {
   "metadata": {},
   "cell_type": "markdown",
   "source": "",
   "id": "55871422ccf18dfd"
  },
  {
   "metadata": {
    "ExecuteTime": {
     "end_time": "2024-10-11T03:20:29.703594Z",
     "start_time": "2024-10-11T03:20:20.521961Z"
    }
   },
   "cell_type": "code",
   "source": "svm_model.fit(X_train, y_train)",
   "id": "7fd2073e90594907",
   "outputs": [
    {
     "data": {
      "text/plain": [
       "SVC(class_weight='balanced', probability=True, random_state=42)"
      ],
      "text/html": [
       "<style>#sk-container-id-1 {\n",
       "  /* Definition of color scheme common for light and dark mode */\n",
       "  --sklearn-color-text: black;\n",
       "  --sklearn-color-line: gray;\n",
       "  /* Definition of color scheme for unfitted estimators */\n",
       "  --sklearn-color-unfitted-level-0: #fff5e6;\n",
       "  --sklearn-color-unfitted-level-1: #f6e4d2;\n",
       "  --sklearn-color-unfitted-level-2: #ffe0b3;\n",
       "  --sklearn-color-unfitted-level-3: chocolate;\n",
       "  /* Definition of color scheme for fitted estimators */\n",
       "  --sklearn-color-fitted-level-0: #f0f8ff;\n",
       "  --sklearn-color-fitted-level-1: #d4ebff;\n",
       "  --sklearn-color-fitted-level-2: #b3dbfd;\n",
       "  --sklearn-color-fitted-level-3: cornflowerblue;\n",
       "\n",
       "  /* Specific color for light theme */\n",
       "  --sklearn-color-text-on-default-background: var(--sg-text-color, var(--theme-code-foreground, var(--jp-content-font-color1, black)));\n",
       "  --sklearn-color-background: var(--sg-background-color, var(--theme-background, var(--jp-layout-color0, white)));\n",
       "  --sklearn-color-border-box: var(--sg-text-color, var(--theme-code-foreground, var(--jp-content-font-color1, black)));\n",
       "  --sklearn-color-icon: #696969;\n",
       "\n",
       "  @media (prefers-color-scheme: dark) {\n",
       "    /* Redefinition of color scheme for dark theme */\n",
       "    --sklearn-color-text-on-default-background: var(--sg-text-color, var(--theme-code-foreground, var(--jp-content-font-color1, white)));\n",
       "    --sklearn-color-background: var(--sg-background-color, var(--theme-background, var(--jp-layout-color0, #111)));\n",
       "    --sklearn-color-border-box: var(--sg-text-color, var(--theme-code-foreground, var(--jp-content-font-color1, white)));\n",
       "    --sklearn-color-icon: #878787;\n",
       "  }\n",
       "}\n",
       "\n",
       "#sk-container-id-1 {\n",
       "  color: var(--sklearn-color-text);\n",
       "}\n",
       "\n",
       "#sk-container-id-1 pre {\n",
       "  padding: 0;\n",
       "}\n",
       "\n",
       "#sk-container-id-1 input.sk-hidden--visually {\n",
       "  border: 0;\n",
       "  clip: rect(1px 1px 1px 1px);\n",
       "  clip: rect(1px, 1px, 1px, 1px);\n",
       "  height: 1px;\n",
       "  margin: -1px;\n",
       "  overflow: hidden;\n",
       "  padding: 0;\n",
       "  position: absolute;\n",
       "  width: 1px;\n",
       "}\n",
       "\n",
       "#sk-container-id-1 div.sk-dashed-wrapped {\n",
       "  border: 1px dashed var(--sklearn-color-line);\n",
       "  margin: 0 0.4em 0.5em 0.4em;\n",
       "  box-sizing: border-box;\n",
       "  padding-bottom: 0.4em;\n",
       "  background-color: var(--sklearn-color-background);\n",
       "}\n",
       "\n",
       "#sk-container-id-1 div.sk-container {\n",
       "  /* jupyter's `normalize.less` sets `[hidden] { display: none; }`\n",
       "     but bootstrap.min.css set `[hidden] { display: none !important; }`\n",
       "     so we also need the `!important` here to be able to override the\n",
       "     default hidden behavior on the sphinx rendered scikit-learn.org.\n",
       "     See: https://github.com/scikit-learn/scikit-learn/issues/21755 */\n",
       "  display: inline-block !important;\n",
       "  position: relative;\n",
       "}\n",
       "\n",
       "#sk-container-id-1 div.sk-text-repr-fallback {\n",
       "  display: none;\n",
       "}\n",
       "\n",
       "div.sk-parallel-item,\n",
       "div.sk-serial,\n",
       "div.sk-item {\n",
       "  /* draw centered vertical line to link estimators */\n",
       "  background-image: linear-gradient(var(--sklearn-color-text-on-default-background), var(--sklearn-color-text-on-default-background));\n",
       "  background-size: 2px 100%;\n",
       "  background-repeat: no-repeat;\n",
       "  background-position: center center;\n",
       "}\n",
       "\n",
       "/* Parallel-specific style estimator block */\n",
       "\n",
       "#sk-container-id-1 div.sk-parallel-item::after {\n",
       "  content: \"\";\n",
       "  width: 100%;\n",
       "  border-bottom: 2px solid var(--sklearn-color-text-on-default-background);\n",
       "  flex-grow: 1;\n",
       "}\n",
       "\n",
       "#sk-container-id-1 div.sk-parallel {\n",
       "  display: flex;\n",
       "  align-items: stretch;\n",
       "  justify-content: center;\n",
       "  background-color: var(--sklearn-color-background);\n",
       "  position: relative;\n",
       "}\n",
       "\n",
       "#sk-container-id-1 div.sk-parallel-item {\n",
       "  display: flex;\n",
       "  flex-direction: column;\n",
       "}\n",
       "\n",
       "#sk-container-id-1 div.sk-parallel-item:first-child::after {\n",
       "  align-self: flex-end;\n",
       "  width: 50%;\n",
       "}\n",
       "\n",
       "#sk-container-id-1 div.sk-parallel-item:last-child::after {\n",
       "  align-self: flex-start;\n",
       "  width: 50%;\n",
       "}\n",
       "\n",
       "#sk-container-id-1 div.sk-parallel-item:only-child::after {\n",
       "  width: 0;\n",
       "}\n",
       "\n",
       "/* Serial-specific style estimator block */\n",
       "\n",
       "#sk-container-id-1 div.sk-serial {\n",
       "  display: flex;\n",
       "  flex-direction: column;\n",
       "  align-items: center;\n",
       "  background-color: var(--sklearn-color-background);\n",
       "  padding-right: 1em;\n",
       "  padding-left: 1em;\n",
       "}\n",
       "\n",
       "\n",
       "/* Toggleable style: style used for estimator/Pipeline/ColumnTransformer box that is\n",
       "clickable and can be expanded/collapsed.\n",
       "- Pipeline and ColumnTransformer use this feature and define the default style\n",
       "- Estimators will overwrite some part of the style using the `sk-estimator` class\n",
       "*/\n",
       "\n",
       "/* Pipeline and ColumnTransformer style (default) */\n",
       "\n",
       "#sk-container-id-1 div.sk-toggleable {\n",
       "  /* Default theme specific background. It is overwritten whether we have a\n",
       "  specific estimator or a Pipeline/ColumnTransformer */\n",
       "  background-color: var(--sklearn-color-background);\n",
       "}\n",
       "\n",
       "/* Toggleable label */\n",
       "#sk-container-id-1 label.sk-toggleable__label {\n",
       "  cursor: pointer;\n",
       "  display: block;\n",
       "  width: 100%;\n",
       "  margin-bottom: 0;\n",
       "  padding: 0.5em;\n",
       "  box-sizing: border-box;\n",
       "  text-align: center;\n",
       "}\n",
       "\n",
       "#sk-container-id-1 label.sk-toggleable__label-arrow:before {\n",
       "  /* Arrow on the left of the label */\n",
       "  content: \"▸\";\n",
       "  float: left;\n",
       "  margin-right: 0.25em;\n",
       "  color: var(--sklearn-color-icon);\n",
       "}\n",
       "\n",
       "#sk-container-id-1 label.sk-toggleable__label-arrow:hover:before {\n",
       "  color: var(--sklearn-color-text);\n",
       "}\n",
       "\n",
       "/* Toggleable content - dropdown */\n",
       "\n",
       "#sk-container-id-1 div.sk-toggleable__content {\n",
       "  max-height: 0;\n",
       "  max-width: 0;\n",
       "  overflow: hidden;\n",
       "  text-align: left;\n",
       "  /* unfitted */\n",
       "  background-color: var(--sklearn-color-unfitted-level-0);\n",
       "}\n",
       "\n",
       "#sk-container-id-1 div.sk-toggleable__content.fitted {\n",
       "  /* fitted */\n",
       "  background-color: var(--sklearn-color-fitted-level-0);\n",
       "}\n",
       "\n",
       "#sk-container-id-1 div.sk-toggleable__content pre {\n",
       "  margin: 0.2em;\n",
       "  border-radius: 0.25em;\n",
       "  color: var(--sklearn-color-text);\n",
       "  /* unfitted */\n",
       "  background-color: var(--sklearn-color-unfitted-level-0);\n",
       "}\n",
       "\n",
       "#sk-container-id-1 div.sk-toggleable__content.fitted pre {\n",
       "  /* unfitted */\n",
       "  background-color: var(--sklearn-color-fitted-level-0);\n",
       "}\n",
       "\n",
       "#sk-container-id-1 input.sk-toggleable__control:checked~div.sk-toggleable__content {\n",
       "  /* Expand drop-down */\n",
       "  max-height: 200px;\n",
       "  max-width: 100%;\n",
       "  overflow: auto;\n",
       "}\n",
       "\n",
       "#sk-container-id-1 input.sk-toggleable__control:checked~label.sk-toggleable__label-arrow:before {\n",
       "  content: \"▾\";\n",
       "}\n",
       "\n",
       "/* Pipeline/ColumnTransformer-specific style */\n",
       "\n",
       "#sk-container-id-1 div.sk-label input.sk-toggleable__control:checked~label.sk-toggleable__label {\n",
       "  color: var(--sklearn-color-text);\n",
       "  background-color: var(--sklearn-color-unfitted-level-2);\n",
       "}\n",
       "\n",
       "#sk-container-id-1 div.sk-label.fitted input.sk-toggleable__control:checked~label.sk-toggleable__label {\n",
       "  background-color: var(--sklearn-color-fitted-level-2);\n",
       "}\n",
       "\n",
       "/* Estimator-specific style */\n",
       "\n",
       "/* Colorize estimator box */\n",
       "#sk-container-id-1 div.sk-estimator input.sk-toggleable__control:checked~label.sk-toggleable__label {\n",
       "  /* unfitted */\n",
       "  background-color: var(--sklearn-color-unfitted-level-2);\n",
       "}\n",
       "\n",
       "#sk-container-id-1 div.sk-estimator.fitted input.sk-toggleable__control:checked~label.sk-toggleable__label {\n",
       "  /* fitted */\n",
       "  background-color: var(--sklearn-color-fitted-level-2);\n",
       "}\n",
       "\n",
       "#sk-container-id-1 div.sk-label label.sk-toggleable__label,\n",
       "#sk-container-id-1 div.sk-label label {\n",
       "  /* The background is the default theme color */\n",
       "  color: var(--sklearn-color-text-on-default-background);\n",
       "}\n",
       "\n",
       "/* On hover, darken the color of the background */\n",
       "#sk-container-id-1 div.sk-label:hover label.sk-toggleable__label {\n",
       "  color: var(--sklearn-color-text);\n",
       "  background-color: var(--sklearn-color-unfitted-level-2);\n",
       "}\n",
       "\n",
       "/* Label box, darken color on hover, fitted */\n",
       "#sk-container-id-1 div.sk-label.fitted:hover label.sk-toggleable__label.fitted {\n",
       "  color: var(--sklearn-color-text);\n",
       "  background-color: var(--sklearn-color-fitted-level-2);\n",
       "}\n",
       "\n",
       "/* Estimator label */\n",
       "\n",
       "#sk-container-id-1 div.sk-label label {\n",
       "  font-family: monospace;\n",
       "  font-weight: bold;\n",
       "  display: inline-block;\n",
       "  line-height: 1.2em;\n",
       "}\n",
       "\n",
       "#sk-container-id-1 div.sk-label-container {\n",
       "  text-align: center;\n",
       "}\n",
       "\n",
       "/* Estimator-specific */\n",
       "#sk-container-id-1 div.sk-estimator {\n",
       "  font-family: monospace;\n",
       "  border: 1px dotted var(--sklearn-color-border-box);\n",
       "  border-radius: 0.25em;\n",
       "  box-sizing: border-box;\n",
       "  margin-bottom: 0.5em;\n",
       "  /* unfitted */\n",
       "  background-color: var(--sklearn-color-unfitted-level-0);\n",
       "}\n",
       "\n",
       "#sk-container-id-1 div.sk-estimator.fitted {\n",
       "  /* fitted */\n",
       "  background-color: var(--sklearn-color-fitted-level-0);\n",
       "}\n",
       "\n",
       "/* on hover */\n",
       "#sk-container-id-1 div.sk-estimator:hover {\n",
       "  /* unfitted */\n",
       "  background-color: var(--sklearn-color-unfitted-level-2);\n",
       "}\n",
       "\n",
       "#sk-container-id-1 div.sk-estimator.fitted:hover {\n",
       "  /* fitted */\n",
       "  background-color: var(--sklearn-color-fitted-level-2);\n",
       "}\n",
       "\n",
       "/* Specification for estimator info (e.g. \"i\" and \"?\") */\n",
       "\n",
       "/* Common style for \"i\" and \"?\" */\n",
       "\n",
       ".sk-estimator-doc-link,\n",
       "a:link.sk-estimator-doc-link,\n",
       "a:visited.sk-estimator-doc-link {\n",
       "  float: right;\n",
       "  font-size: smaller;\n",
       "  line-height: 1em;\n",
       "  font-family: monospace;\n",
       "  background-color: var(--sklearn-color-background);\n",
       "  border-radius: 1em;\n",
       "  height: 1em;\n",
       "  width: 1em;\n",
       "  text-decoration: none !important;\n",
       "  margin-left: 1ex;\n",
       "  /* unfitted */\n",
       "  border: var(--sklearn-color-unfitted-level-1) 1pt solid;\n",
       "  color: var(--sklearn-color-unfitted-level-1);\n",
       "}\n",
       "\n",
       ".sk-estimator-doc-link.fitted,\n",
       "a:link.sk-estimator-doc-link.fitted,\n",
       "a:visited.sk-estimator-doc-link.fitted {\n",
       "  /* fitted */\n",
       "  border: var(--sklearn-color-fitted-level-1) 1pt solid;\n",
       "  color: var(--sklearn-color-fitted-level-1);\n",
       "}\n",
       "\n",
       "/* On hover */\n",
       "div.sk-estimator:hover .sk-estimator-doc-link:hover,\n",
       ".sk-estimator-doc-link:hover,\n",
       "div.sk-label-container:hover .sk-estimator-doc-link:hover,\n",
       ".sk-estimator-doc-link:hover {\n",
       "  /* unfitted */\n",
       "  background-color: var(--sklearn-color-unfitted-level-3);\n",
       "  color: var(--sklearn-color-background);\n",
       "  text-decoration: none;\n",
       "}\n",
       "\n",
       "div.sk-estimator.fitted:hover .sk-estimator-doc-link.fitted:hover,\n",
       ".sk-estimator-doc-link.fitted:hover,\n",
       "div.sk-label-container:hover .sk-estimator-doc-link.fitted:hover,\n",
       ".sk-estimator-doc-link.fitted:hover {\n",
       "  /* fitted */\n",
       "  background-color: var(--sklearn-color-fitted-level-3);\n",
       "  color: var(--sklearn-color-background);\n",
       "  text-decoration: none;\n",
       "}\n",
       "\n",
       "/* Span, style for the box shown on hovering the info icon */\n",
       ".sk-estimator-doc-link span {\n",
       "  display: none;\n",
       "  z-index: 9999;\n",
       "  position: relative;\n",
       "  font-weight: normal;\n",
       "  right: .2ex;\n",
       "  padding: .5ex;\n",
       "  margin: .5ex;\n",
       "  width: min-content;\n",
       "  min-width: 20ex;\n",
       "  max-width: 50ex;\n",
       "  color: var(--sklearn-color-text);\n",
       "  box-shadow: 2pt 2pt 4pt #999;\n",
       "  /* unfitted */\n",
       "  background: var(--sklearn-color-unfitted-level-0);\n",
       "  border: .5pt solid var(--sklearn-color-unfitted-level-3);\n",
       "}\n",
       "\n",
       ".sk-estimator-doc-link.fitted span {\n",
       "  /* fitted */\n",
       "  background: var(--sklearn-color-fitted-level-0);\n",
       "  border: var(--sklearn-color-fitted-level-3);\n",
       "}\n",
       "\n",
       ".sk-estimator-doc-link:hover span {\n",
       "  display: block;\n",
       "}\n",
       "\n",
       "/* \"?\"-specific style due to the `<a>` HTML tag */\n",
       "\n",
       "#sk-container-id-1 a.estimator_doc_link {\n",
       "  float: right;\n",
       "  font-size: 1rem;\n",
       "  line-height: 1em;\n",
       "  font-family: monospace;\n",
       "  background-color: var(--sklearn-color-background);\n",
       "  border-radius: 1rem;\n",
       "  height: 1rem;\n",
       "  width: 1rem;\n",
       "  text-decoration: none;\n",
       "  /* unfitted */\n",
       "  color: var(--sklearn-color-unfitted-level-1);\n",
       "  border: var(--sklearn-color-unfitted-level-1) 1pt solid;\n",
       "}\n",
       "\n",
       "#sk-container-id-1 a.estimator_doc_link.fitted {\n",
       "  /* fitted */\n",
       "  border: var(--sklearn-color-fitted-level-1) 1pt solid;\n",
       "  color: var(--sklearn-color-fitted-level-1);\n",
       "}\n",
       "\n",
       "/* On hover */\n",
       "#sk-container-id-1 a.estimator_doc_link:hover {\n",
       "  /* unfitted */\n",
       "  background-color: var(--sklearn-color-unfitted-level-3);\n",
       "  color: var(--sklearn-color-background);\n",
       "  text-decoration: none;\n",
       "}\n",
       "\n",
       "#sk-container-id-1 a.estimator_doc_link.fitted:hover {\n",
       "  /* fitted */\n",
       "  background-color: var(--sklearn-color-fitted-level-3);\n",
       "}\n",
       "</style><div id=\"sk-container-id-1\" class=\"sk-top-container\"><div class=\"sk-text-repr-fallback\"><pre>SVC(class_weight=&#x27;balanced&#x27;, probability=True, random_state=42)</pre><b>In a Jupyter environment, please rerun this cell to show the HTML representation or trust the notebook. <br />On GitHub, the HTML representation is unable to render, please try loading this page with nbviewer.org.</b></div><div class=\"sk-container\" hidden><div class=\"sk-item\"><div class=\"sk-estimator fitted sk-toggleable\"><input class=\"sk-toggleable__control sk-hidden--visually\" id=\"sk-estimator-id-1\" type=\"checkbox\" checked><label for=\"sk-estimator-id-1\" class=\"sk-toggleable__label fitted sk-toggleable__label-arrow fitted\">&nbsp;&nbsp;SVC<a class=\"sk-estimator-doc-link fitted\" rel=\"noreferrer\" target=\"_blank\" href=\"https://scikit-learn.org/1.4/modules/generated/sklearn.svm.SVC.html\">?<span>Documentation for SVC</span></a><span class=\"sk-estimator-doc-link fitted\">i<span>Fitted</span></span></label><div class=\"sk-toggleable__content fitted\"><pre>SVC(class_weight=&#x27;balanced&#x27;, probability=True, random_state=42)</pre></div> </div></div></div></div>"
      ]
     },
     "execution_count": 20,
     "metadata": {},
     "output_type": "execute_result"
    }
   ],
   "execution_count": 20
  },
  {
   "metadata": {
    "ExecuteTime": {
     "end_time": "2024-10-11T03:20:29.719584Z",
     "start_time": "2024-10-11T03:20:29.706568Z"
    }
   },
   "cell_type": "code",
   "source": "",
   "id": "382c5eb5e3c059a1",
   "outputs": [],
   "execution_count": 20
  },
  {
   "metadata": {
    "ExecuteTime": {
     "end_time": "2024-10-11T03:20:29.734552Z",
     "start_time": "2024-10-11T03:20:29.722559Z"
    }
   },
   "cell_type": "code",
   "source": "",
   "id": "fff35e41c8e52ec5",
   "outputs": [],
   "execution_count": 20
  },
  {
   "metadata": {
    "ExecuteTime": {
     "end_time": "2024-10-11T03:20:32.528471Z",
     "start_time": "2024-10-11T03:20:29.737551Z"
    }
   },
   "cell_type": "code",
   "source": [
    "# 使用SVM模型进行预测，获取决策分数\n",
    "decision_scores = svm_model.decision_function(X_train)\n",
    "decision_scores.shape"
   ],
   "id": "6d89372660a6e6d6",
   "outputs": [
    {
     "data": {
      "text/plain": [
       "(7436, 3)"
      ]
     },
     "execution_count": 21,
     "metadata": {},
     "output_type": "execute_result"
    }
   ],
   "execution_count": 21
  },
  {
   "metadata": {
    "ExecuteTime": {
     "end_time": "2024-10-11T03:20:32.734619Z",
     "start_time": "2024-10-11T03:20:32.531450Z"
    }
   },
   "cell_type": "code",
   "source": [
    "from sklearn.linear_model import LogisticRegression\n",
    "platt_scaler = LogisticRegression(max_iter=1000, solver='saga', multi_class='multinomial', penalty='l2')\n",
    "platt_scaler.fit(decision_scores, y_train)\n",
    "save_model(platt_scaler,\"machine_model_pt/platt_scaler_en.pkl\")"
   ],
   "id": "98819867243ea3cf",
   "outputs": [],
   "execution_count": 22
  },
  {
   "metadata": {
    "ExecuteTime": {
     "end_time": "2024-10-11T03:20:32.750610Z",
     "start_time": "2024-10-11T03:20:32.737623Z"
    }
   },
   "cell_type": "code",
   "source": "save_model(svm_model,\"machine_model_pt/svm_model_en.pkl\")",
   "id": "333a08ce47f0ba6d",
   "outputs": [],
   "execution_count": 23
  },
  {
   "metadata": {
    "ExecuteTime": {
     "end_time": "2024-10-11T03:20:33.448863Z",
     "start_time": "2024-10-11T03:20:32.752609Z"
    }
   },
   "cell_type": "code",
   "source": "evaluate_model(svm_model, X_test, y_test)",
   "id": "3bbfa98290062522",
   "outputs": [
    {
     "name": "stdout",
     "output_type": "stream",
     "text": [
      "Accuracy: 0.9774\n",
      "Precision: 0.9777\n",
      "Recall: 0.9778\n",
      "F1: 0.9778\n",
      "Classification Report:\n",
      "              precision    recall  f1-score   support\n",
      "\n",
      "           0       0.97      0.97      0.97       668\n",
      "           1       0.97      0.97      0.97       617\n",
      "           2       0.99      0.99      0.99       574\n",
      "\n",
      "    accuracy                           0.98      1859\n",
      "   macro avg       0.98      0.98      0.98      1859\n",
      "weighted avg       0.98      0.98      0.98      1859\n",
      "\n"
     ]
    }
   ],
   "execution_count": 24
  },
  {
   "metadata": {
    "ExecuteTime": {
     "end_time": "2024-10-11T03:20:33.527352Z",
     "start_time": "2024-10-11T03:20:33.451862Z"
    }
   },
   "cell_type": "code",
   "source": [
    "from sklearn.linear_model import LogisticRegression\n",
    "from sklearn.neighbors import KNeighborsClassifier\n",
    "from sklearn.ensemble import RandomForestClassifier, AdaBoostClassifier\n",
    "from xgboost import XGBClassifier\n",
    "knn_model = KNeighborsClassifier(n_neighbors=7, weights='distance', metric='cosine')\n",
    "lr_model = LogisticRegression(max_iter=1000, C=1.0, solver='saga', class_weight='balanced', random_state=42)\n",
    "xgb_model = XGBClassifier(n_estimators=100, learning_rate=0.1, max_depth=6, eval_metric='mlogloss',random_state=42)\n",
    "rf_model = RandomForestClassifier(n_estimators=100, random_state=42)\n",
    "ada_model = AdaBoostClassifier(estimator=rf_model, algorithm='SAMME.R', n_estimators=50)"
   ],
   "id": "f4f00721d5107d5a",
   "outputs": [],
   "execution_count": 25
  },
  {
   "metadata": {
    "ExecuteTime": {
     "end_time": "2024-10-11T03:20:34.083245Z",
     "start_time": "2024-10-11T03:20:33.530335Z"
    }
   },
   "cell_type": "code",
   "source": [
    "knn_model.fit(X_train, y_train)\n",
    "evaluate_model(knn_model, X_test, y_test)"
   ],
   "id": "ade5c0a16b10fa95",
   "outputs": [
    {
     "name": "stdout",
     "output_type": "stream",
     "text": [
      "Accuracy: 0.9763\n",
      "Precision: 0.9767\n",
      "Recall: 0.9766\n",
      "F1: 0.9766\n",
      "Classification Report:\n",
      "              precision    recall  f1-score   support\n",
      "\n",
      "           0       0.97      0.97      0.97       668\n",
      "           1       0.97      0.97      0.97       617\n",
      "           2       0.99      0.99      0.99       574\n",
      "\n",
      "    accuracy                           0.98      1859\n",
      "   macro avg       0.98      0.98      0.98      1859\n",
      "weighted avg       0.98      0.98      0.98      1859\n",
      "\n"
     ]
    }
   ],
   "execution_count": 26
  },
  {
   "metadata": {
    "ExecuteTime": {
     "end_time": "2024-10-11T03:22:24.991519Z",
     "start_time": "2024-10-11T03:20:34.086244Z"
    }
   },
   "cell_type": "code",
   "source": [
    "lr_model.fit(X_train, y_train)\n",
    "evaluate_model(lr_model, X_test, y_test)"
   ],
   "id": "11bc22327d0f6785",
   "outputs": [
    {
     "name": "stdout",
     "output_type": "stream",
     "text": [
      "Accuracy: 0.9753\n",
      "Precision: 0.9757\n",
      "Recall: 0.9757\n",
      "F1: 0.9757\n",
      "Classification Report:\n",
      "              precision    recall  f1-score   support\n",
      "\n",
      "           0       0.97      0.97      0.97       668\n",
      "           1       0.97      0.97      0.97       617\n",
      "           2       0.99      0.99      0.99       574\n",
      "\n",
      "    accuracy                           0.98      1859\n",
      "   macro avg       0.98      0.98      0.98      1859\n",
      "weighted avg       0.98      0.98      0.98      1859\n",
      "\n"
     ]
    }
   ],
   "execution_count": 27
  },
  {
   "metadata": {
    "ExecuteTime": {
     "end_time": "2024-10-11T03:22:25.068969Z",
     "start_time": "2024-10-11T03:22:24.994517Z"
    }
   },
   "cell_type": "code",
   "source": "save_model(knn_model,\"machine_model_pt/knn_model_en.pkl\")",
   "id": "89be1f94fe864e9",
   "outputs": [],
   "execution_count": 28
  },
  {
   "metadata": {
    "ExecuteTime": {
     "end_time": "2024-10-11T03:22:25.083962Z",
     "start_time": "2024-10-11T03:22:25.071953Z"
    }
   },
   "cell_type": "code",
   "source": "save_model(lr_model,\"machine_model_pt/lr_model_en.pkl\")",
   "id": "9ab15002aa404850",
   "outputs": [],
   "execution_count": 29
  },
  {
   "metadata": {
    "ExecuteTime": {
     "end_time": "2024-10-11T03:22:25.099955Z",
     "start_time": "2024-10-11T03:22:25.085960Z"
    }
   },
   "cell_type": "code",
   "source": "",
   "id": "a8ecf79836b77b65",
   "outputs": [],
   "execution_count": 29
  },
  {
   "metadata": {
    "ExecuteTime": {
     "end_time": "2024-10-11T03:22:44.597513Z",
     "start_time": "2024-10-11T03:22:25.101953Z"
    }
   },
   "cell_type": "code",
   "source": [
    "xgb_model.fit(X_train, y_train)\n",
    "evaluate_model(xgb_model, X_test, y_test)"
   ],
   "id": "e0d742a85b116c79",
   "outputs": [
    {
     "name": "stdout",
     "output_type": "stream",
     "text": [
      "Accuracy: 0.9763\n",
      "Precision: 0.9767\n",
      "Recall: 0.9767\n",
      "F1: 0.9767\n",
      "Classification Report:\n",
      "              precision    recall  f1-score   support\n",
      "\n",
      "           0       0.97      0.97      0.97       668\n",
      "           1       0.97      0.97      0.97       617\n",
      "           2       0.99      0.99      0.99       574\n",
      "\n",
      "    accuracy                           0.98      1859\n",
      "   macro avg       0.98      0.98      0.98      1859\n",
      "weighted avg       0.98      0.98      0.98      1859\n",
      "\n"
     ]
    }
   ],
   "execution_count": 30
  },
  {
   "metadata": {
    "ExecuteTime": {
     "end_time": "2024-10-11T03:22:44.629495Z",
     "start_time": "2024-10-11T03:22:44.599512Z"
    }
   },
   "cell_type": "code",
   "source": "save_model(xgb_model,\"machine_model_pt/xgb_model_en.pkl\")",
   "id": "14ca90d6706bc766",
   "outputs": [],
   "execution_count": 31
  },
  {
   "metadata": {
    "ExecuteTime": {
     "end_time": "2024-10-11T03:42:55.722194Z",
     "start_time": "2024-10-11T03:22:44.631494Z"
    }
   },
   "cell_type": "code",
   "source": [
    "ada_model.fit(X_train, y_train)\n",
    "evaluate_model(ada_model, X_test, y_test)"
   ],
   "id": "804f8676ca5b26c5",
   "outputs": [
    {
     "name": "stderr",
     "output_type": "stream",
     "text": [
      "D:\\anaconda3\\envs\\zh\\lib\\site-packages\\sklearn\\ensemble\\_weight_boosting.py:519: FutureWarning: The SAMME.R algorithm (the default) is deprecated and will be removed in 1.6. Use the SAMME algorithm to circumvent this warning.\n",
      "  warnings.warn(\n"
     ]
    },
    {
     "name": "stdout",
     "output_type": "stream",
     "text": [
      "Accuracy: 0.9769\n",
      "Precision: 0.9772\n",
      "Recall: 0.9772\n",
      "F1: 0.9772\n",
      "Classification Report:\n",
      "              precision    recall  f1-score   support\n",
      "\n",
      "           0       0.97      0.97      0.97       668\n",
      "           1       0.97      0.97      0.97       617\n",
      "           2       0.99      0.99      0.99       574\n",
      "\n",
      "    accuracy                           0.98      1859\n",
      "   macro avg       0.98      0.98      0.98      1859\n",
      "weighted avg       0.98      0.98      0.98      1859\n",
      "\n"
     ]
    }
   ],
   "execution_count": 32
  },
  {
   "metadata": {
    "ExecuteTime": {
     "end_time": "2024-10-11T03:42:58.813627Z",
     "start_time": "2024-10-11T03:42:55.725171Z"
    }
   },
   "cell_type": "code",
   "source": "save_model(ada_model,\"machine_model_pt/ada_model_en.pkl\")",
   "id": "db507abaebbffb56",
   "outputs": [],
   "execution_count": 33
  }
 ],
 "metadata": {
  "kernelspec": {
   "display_name": "Python 3",
   "language": "python",
   "name": "python3"
  },
  "language_info": {
   "codemirror_mode": {
    "name": "ipython",
    "version": 2
   },
   "file_extension": ".py",
   "mimetype": "text/x-python",
   "name": "python",
   "nbconvert_exporter": "python",
   "pygments_lexer": "ipython2",
   "version": "2.7.6"
  }
 },
 "nbformat": 4,
 "nbformat_minor": 5
}