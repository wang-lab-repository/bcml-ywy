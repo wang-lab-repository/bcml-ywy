{
 "cells": [
  {
   "cell_type": "code",
   "execution_count": 1,
   "id": "initial_id",
   "metadata": {
    "ExecuteTime": {
     "end_time": "2024-09-28T01:54:07.628276Z",
     "start_time": "2024-09-28T01:54:03.244251Z"
    },
    "collapsed": true
   },
   "outputs": [],
   "source": [
    "import numpy as np\n",
    "import pandas as pd\n",
    "from sklearn.model_selection import train_test_split\n",
    "from sklearn.preprocessing import StandardScaler\n",
    "from sklearn.ensemble import RandomForestClassifier\n",
    "from sklearn.metrics import accuracy_score, classification_report\n",
    "import joblib"
   ]
  },
  {
   "cell_type": "code",
   "execution_count": 2,
   "id": "3684b2daa0d92cfe",
   "metadata": {
    "ExecuteTime": {
     "end_time": "2024-09-28T01:54:56.183318Z",
     "start_time": "2024-09-28T01:54:56.171324Z"
    }
   },
   "outputs": [],
   "source": [
    "def load_data(data_path):\n",
    "    # 这里假设数据是CSV格式\n",
    "    data = pd.read_csv(data_path)\n",
    "    return data"
   ]
  },
  {
   "cell_type": "code",
   "execution_count": 3,
   "id": "1e63f5e8e04d8c27",
   "metadata": {
    "ExecuteTime": {
     "end_time": "2024-09-28T02:05:46.203359Z",
     "start_time": "2024-09-28T02:05:46.192346Z"
    }
   },
   "outputs": [],
   "source": [
    "def split_data(data):\n",
    "    X = data.iloc[:, :-1]  # 所有特征列\n",
    "    y = data.iloc[:, -1]  # 标签列\n",
    "\n",
    "    # 分割数据集为训练集和测试集\n",
    "    X_train, X_test, y_train, y_test = train_test_split(X, y, test_size=0.2, random_state=42)\n",
    "\n",
    "    return X_train, X_test, y_train, y_test"
   ]
  },
  {
   "cell_type": "code",
   "execution_count": 6,
   "id": "8ad74203d29d05db",
   "metadata": {
    "ExecuteTime": {
     "end_time": "2024-09-28T02:07:45.014265Z",
     "start_time": "2024-09-28T02:07:34.724963Z"
    }
   },
   "outputs": [],
   "source": [
    " data = load_data('../data/features.csv')"
   ]
  },
  {
   "cell_type": "code",
   "execution_count": 7,
   "id": "a58c5cfe7e87e5c8",
   "metadata": {
    "ExecuteTime": {
     "end_time": "2024-09-28T02:08:25.645809Z",
     "start_time": "2024-09-28T02:08:25.573313Z"
    }
   },
   "outputs": [
    {
     "name": "stdout",
     "output_type": "stream",
     "text": [
      "<class 'pandas.core.frame.DataFrame'>\n",
      "RangeIndex: 50048 entries, 0 to 50047\n",
      "Columns: 993 entries, 0 to Label\n",
      "dtypes: float64(992), int64(1)\n",
      "memory usage: 379.2 MB\n"
     ]
    }
   ],
   "source": [
    "data.info()"
   ]
  },
  {
   "cell_type": "code",
   "execution_count": 8,
   "id": "97ab9f24f5107ea6",
   "metadata": {
    "ExecuteTime": {
     "end_time": "2024-09-28T02:08:36.375046Z",
     "start_time": "2024-09-28T02:08:36.309087Z"
    }
   },
   "outputs": [
    {
     "data": {
      "text/html": [
       "<div>\n",
       "<style scoped>\n",
       "    .dataframe tbody tr th:only-of-type {\n",
       "        vertical-align: middle;\n",
       "    }\n",
       "\n",
       "    .dataframe tbody tr th {\n",
       "        vertical-align: top;\n",
       "    }\n",
       "\n",
       "    .dataframe thead th {\n",
       "        text-align: right;\n",
       "    }\n",
       "</style>\n",
       "<table border=\"1\" class=\"dataframe\">\n",
       "  <thead>\n",
       "    <tr style=\"text-align: right;\">\n",
       "      <th></th>\n",
       "      <th>0</th>\n",
       "      <th>1</th>\n",
       "      <th>2</th>\n",
       "      <th>3</th>\n",
       "      <th>4</th>\n",
       "      <th>5</th>\n",
       "      <th>6</th>\n",
       "      <th>7</th>\n",
       "      <th>8</th>\n",
       "      <th>9</th>\n",
       "      <th>...</th>\n",
       "      <th>983</th>\n",
       "      <th>984</th>\n",
       "      <th>985</th>\n",
       "      <th>986</th>\n",
       "      <th>987</th>\n",
       "      <th>988</th>\n",
       "      <th>989</th>\n",
       "      <th>990</th>\n",
       "      <th>991</th>\n",
       "      <th>Label</th>\n",
       "    </tr>\n",
       "  </thead>\n",
       "  <tbody>\n",
       "    <tr>\n",
       "      <th>0</th>\n",
       "      <td>-0.999912</td>\n",
       "      <td>0.975937</td>\n",
       "      <td>-1.000000</td>\n",
       "      <td>0.993943</td>\n",
       "      <td>0.985628</td>\n",
       "      <td>0.999032</td>\n",
       "      <td>-0.999644</td>\n",
       "      <td>0.998977</td>\n",
       "      <td>0.970259</td>\n",
       "      <td>0.999700</td>\n",
       "      <td>...</td>\n",
       "      <td>0.603955</td>\n",
       "      <td>3.193250</td>\n",
       "      <td>1.110541</td>\n",
       "      <td>0.620530</td>\n",
       "      <td>0.757994</td>\n",
       "      <td>1.292508</td>\n",
       "      <td>1.170320</td>\n",
       "      <td>1.944303</td>\n",
       "      <td>0.741259</td>\n",
       "      <td>0</td>\n",
       "    </tr>\n",
       "    <tr>\n",
       "      <th>1</th>\n",
       "      <td>0.999969</td>\n",
       "      <td>-0.987782</td>\n",
       "      <td>1.000000</td>\n",
       "      <td>-0.967026</td>\n",
       "      <td>-0.924990</td>\n",
       "      <td>-0.957387</td>\n",
       "      <td>0.966745</td>\n",
       "      <td>-0.999295</td>\n",
       "      <td>-0.986237</td>\n",
       "      <td>-0.999977</td>\n",
       "      <td>...</td>\n",
       "      <td>0.374383</td>\n",
       "      <td>0.781333</td>\n",
       "      <td>0.667129</td>\n",
       "      <td>1.026212</td>\n",
       "      <td>0.848688</td>\n",
       "      <td>1.286111</td>\n",
       "      <td>1.244434</td>\n",
       "      <td>0.477745</td>\n",
       "      <td>0.329097</td>\n",
       "      <td>1</td>\n",
       "    </tr>\n",
       "    <tr>\n",
       "      <th>2</th>\n",
       "      <td>0.972141</td>\n",
       "      <td>1.000000</td>\n",
       "      <td>-0.999986</td>\n",
       "      <td>0.999996</td>\n",
       "      <td>0.999957</td>\n",
       "      <td>0.999998</td>\n",
       "      <td>-0.999999</td>\n",
       "      <td>-0.999480</td>\n",
       "      <td>0.999440</td>\n",
       "      <td>-0.736712</td>\n",
       "      <td>...</td>\n",
       "      <td>0.332628</td>\n",
       "      <td>2.958337</td>\n",
       "      <td>0.692625</td>\n",
       "      <td>0.934682</td>\n",
       "      <td>0.767804</td>\n",
       "      <td>1.364639</td>\n",
       "      <td>0.759030</td>\n",
       "      <td>2.331257</td>\n",
       "      <td>0.687632</td>\n",
       "      <td>0</td>\n",
       "    </tr>\n",
       "    <tr>\n",
       "      <th>3</th>\n",
       "      <td>0.999982</td>\n",
       "      <td>0.676503</td>\n",
       "      <td>0.999994</td>\n",
       "      <td>0.124561</td>\n",
       "      <td>0.096042</td>\n",
       "      <td>-0.276798</td>\n",
       "      <td>0.032117</td>\n",
       "      <td>-0.999862</td>\n",
       "      <td>-0.474581</td>\n",
       "      <td>-0.999981</td>\n",
       "      <td>...</td>\n",
       "      <td>0.564951</td>\n",
       "      <td>0.912515</td>\n",
       "      <td>1.083173</td>\n",
       "      <td>1.797331</td>\n",
       "      <td>1.170643</td>\n",
       "      <td>1.871673</td>\n",
       "      <td>1.187126</td>\n",
       "      <td>1.278171</td>\n",
       "      <td>0.766261</td>\n",
       "      <td>1</td>\n",
       "    </tr>\n",
       "    <tr>\n",
       "      <th>4</th>\n",
       "      <td>-0.999967</td>\n",
       "      <td>0.997787</td>\n",
       "      <td>-1.000000</td>\n",
       "      <td>0.999270</td>\n",
       "      <td>0.997904</td>\n",
       "      <td>0.999819</td>\n",
       "      <td>-0.999952</td>\n",
       "      <td>0.994997</td>\n",
       "      <td>0.994416</td>\n",
       "      <td>0.999720</td>\n",
       "      <td>...</td>\n",
       "      <td>1.054142</td>\n",
       "      <td>3.082209</td>\n",
       "      <td>0.931048</td>\n",
       "      <td>1.011173</td>\n",
       "      <td>1.176199</td>\n",
       "      <td>1.323773</td>\n",
       "      <td>1.601120</td>\n",
       "      <td>1.529859</td>\n",
       "      <td>0.865902</td>\n",
       "      <td>0</td>\n",
       "    </tr>\n",
       "  </tbody>\n",
       "</table>\n",
       "<p>5 rows × 993 columns</p>\n",
       "</div>"
      ],
      "text/plain": [
       "          0         1         2         3         4         5         6  \\\n",
       "0 -0.999912  0.975937 -1.000000  0.993943  0.985628  0.999032 -0.999644   \n",
       "1  0.999969 -0.987782  1.000000 -0.967026 -0.924990 -0.957387  0.966745   \n",
       "2  0.972141  1.000000 -0.999986  0.999996  0.999957  0.999998 -0.999999   \n",
       "3  0.999982  0.676503  0.999994  0.124561  0.096042 -0.276798  0.032117   \n",
       "4 -0.999967  0.997787 -1.000000  0.999270  0.997904  0.999819 -0.999952   \n",
       "\n",
       "          7         8         9  ...       983       984       985       986  \\\n",
       "0  0.998977  0.970259  0.999700  ...  0.603955  3.193250  1.110541  0.620530   \n",
       "1 -0.999295 -0.986237 -0.999977  ...  0.374383  0.781333  0.667129  1.026212   \n",
       "2 -0.999480  0.999440 -0.736712  ...  0.332628  2.958337  0.692625  0.934682   \n",
       "3 -0.999862 -0.474581 -0.999981  ...  0.564951  0.912515  1.083173  1.797331   \n",
       "4  0.994997  0.994416  0.999720  ...  1.054142  3.082209  0.931048  1.011173   \n",
       "\n",
       "        987       988       989       990       991  Label  \n",
       "0  0.757994  1.292508  1.170320  1.944303  0.741259      0  \n",
       "1  0.848688  1.286111  1.244434  0.477745  0.329097      1  \n",
       "2  0.767804  1.364639  0.759030  2.331257  0.687632      0  \n",
       "3  1.170643  1.871673  1.187126  1.278171  0.766261      1  \n",
       "4  1.176199  1.323773  1.601120  1.529859  0.865902      0  \n",
       "\n",
       "[5 rows x 993 columns]"
      ]
     },
     "execution_count": 8,
     "metadata": {},
     "output_type": "execute_result"
    }
   ],
   "source": [
    "data.head(5)"
   ]
  },
  {
   "cell_type": "code",
   "execution_count": 9,
   "id": "3ea1a2318384c92b",
   "metadata": {
    "ExecuteTime": {
     "end_time": "2024-09-28T02:09:25.762101Z",
     "start_time": "2024-09-28T02:09:25.133716Z"
    }
   },
   "outputs": [],
   "source": [
    "X_train, X_test, y_train, y_test = split_data(data)"
   ]
  },
  {
   "cell_type": "code",
   "execution_count": 18,
   "id": "6b71d51a9c8a8345",
   "metadata": {
    "ExecuteTime": {
     "end_time": "2024-09-28T06:54:34.279916Z",
     "start_time": "2024-09-28T06:54:34.199945Z"
    }
   },
   "outputs": [
    {
     "name": "stdout",
     "output_type": "stream",
     "text": [
      "<class 'pandas.core.frame.DataFrame'>\n",
      "Int64Index: 40038 entries, 21726 to 15795\n",
      "Columns: 992 entries, 0 to 991\n",
      "dtypes: float64(992)\n",
      "memory usage: 303.3 MB\n"
     ]
    }
   ],
   "source": [
    "X_train.info()"
   ]
  },
  {
   "cell_type": "code",
   "execution_count": 10,
   "id": "9f810558940c05d2",
   "metadata": {
    "ExecuteTime": {
     "end_time": "2024-09-28T02:29:05.209354Z",
     "start_time": "2024-09-28T02:29:05.185364Z"
    }
   },
   "outputs": [],
   "source": [
    "def save_model(model, model_path):\n",
    "    joblib.dump(model, model_path)\n",
    "\n",
    "\n",
    "# 模型加载\n",
    "def load_model(model_path):\n",
    "    model = joblib.load(model_path)\n",
    "    return model"
   ]
  },
  {
   "cell_type": "code",
   "execution_count": 40,
   "id": "4cd0dfd4f0c8910c",
   "metadata": {
    "ExecuteTime": {
     "end_time": "2024-09-28T08:48:31.066803Z",
     "start_time": "2024-09-28T08:48:31.044797Z"
    }
   },
   "outputs": [],
   "source": [
    "import re\n",
    "\n",
    "from sklearn.metrics import precision_score, recall_score, f1_score, accuracy_score\n",
    "def evaluate_model(model, X_test, y_test):\n",
    "    predictions = model.predict(X_test)\n",
    "    accuracy = accuracy_score(y_test, predictions)\n",
    "    report = classification_report(y_test, predictions)\n",
    "\n",
    "    precision= precision_score(y_test, predictions)\n",
    "    recall = recall_score(y_test, predictions)\n",
    "    f1 = f1_score(y_test, predictions)\n",
    "    print(f\"Accuracy: {accuracy:.4f}\")\n",
    "    print(f\"Precision: {precision:.4f}\")\n",
    "    print(f\"Recall: {recall:.4f}\")\n",
    "    print(f\"F1: {f1:.4f}\")\n",
    "    print(f\"Classification Report:\\n{report}\")"
   ]
  },
  {
   "cell_type": "code",
   "execution_count": 37,
   "id": "1f417c74c9e487d0",
   "metadata": {
    "ExecuteTime": {
     "end_time": "2024-09-28T08:47:05.168905Z",
     "start_time": "2024-09-28T08:47:05.156929Z"
    }
   },
   "outputs": [],
   "source": [
    "# 模型训练\n",
    "def train_model(X_train, y_train):\n",
    "    # 这里使用随机森林分类器作为例子\n",
    "    model = RandomForestClassifier(n_estimators=100, random_state=42)\n",
    "    model.fit(X_train, y_train)\n",
    "    return model"
   ]
  },
  {
   "cell_type": "code",
   "execution_count": 38,
   "id": "6342787afdcb4e1e",
   "metadata": {
    "ExecuteTime": {
     "end_time": "2024-09-28T08:47:43.361555Z",
     "start_time": "2024-09-28T08:47:06.678885Z"
    }
   },
   "outputs": [],
   "source": [
    "model = train_model(X_train, y_train)"
   ]
  },
  {
   "cell_type": "code",
   "execution_count": 41,
   "id": "b413b8875b79944d",
   "metadata": {
    "ExecuteTime": {
     "end_time": "2024-09-28T08:48:40.995246Z",
     "start_time": "2024-09-28T08:48:40.815355Z"
    }
   },
   "outputs": [
    {
     "name": "stdout",
     "output_type": "stream",
     "text": [
      "Accuracy: 0.9796\n",
      "Precision: 0.9912\n",
      "Recall: 0.9677\n",
      "F1: 0.9793\n",
      "Classification Report:\n",
      "              precision    recall  f1-score   support\n",
      "\n",
      "           0       0.97      0.99      0.98      5019\n",
      "           1       0.99      0.97      0.98      4991\n",
      "\n",
      "    accuracy                           0.98     10010\n",
      "   macro avg       0.98      0.98      0.98     10010\n",
      "weighted avg       0.98      0.98      0.98     10010\n",
      "\n"
     ]
    }
   ],
   "source": [
    "evaluate_model(model, X_test, y_test)"
   ]
  },
  {
   "cell_type": "code",
   "execution_count": 42,
   "id": "5a6b29f6060ba9bb",
   "metadata": {
    "ExecuteTime": {
     "end_time": "2024-09-28T08:48:49.437084Z",
     "start_time": "2024-09-28T08:48:49.336124Z"
    }
   },
   "outputs": [],
   "source": [
    "save_model(model,\"machine_model_pt/rf_model.pkl\")"
   ]
  },
  {
   "cell_type": "code",
   "execution_count": 43,
   "id": "8d76a52226d5da6d",
   "metadata": {
    "ExecuteTime": {
     "end_time": "2024-09-28T08:48:54.638641Z",
     "start_time": "2024-09-28T08:48:54.627651Z"
    }
   },
   "outputs": [],
   "source": [
    "from sklearn.svm import SVC"
   ]
  },
  {
   "cell_type": "code",
   "execution_count": 44,
   "id": "80b00afd8067cdc3",
   "metadata": {
    "ExecuteTime": {
     "end_time": "2024-09-28T08:48:56.878055Z",
     "start_time": "2024-09-28T08:48:56.867061Z"
    }
   },
   "outputs": [],
   "source": [
    "svm_model = SVC(kernel='rbf', C=1.0, gamma='scale', class_weight='balanced', random_state=42,)"
   ]
  },
  {
   "cell_type": "code",
   "execution_count": 45,
   "id": "7fd2073e90594907",
   "metadata": {
    "ExecuteTime": {
     "end_time": "2024-09-28T08:49:41.297631Z",
     "start_time": "2024-09-28T08:48:58.431067Z"
    }
   },
   "outputs": [
    {
     "data": {
      "text/html": [
       "<style>#sk-container-id-2 {\n",
       "  /* Definition of color scheme common for light and dark mode */\n",
       "  --sklearn-color-text: black;\n",
       "  --sklearn-color-line: gray;\n",
       "  /* Definition of color scheme for unfitted estimators */\n",
       "  --sklearn-color-unfitted-level-0: #fff5e6;\n",
       "  --sklearn-color-unfitted-level-1: #f6e4d2;\n",
       "  --sklearn-color-unfitted-level-2: #ffe0b3;\n",
       "  --sklearn-color-unfitted-level-3: chocolate;\n",
       "  /* Definition of color scheme for fitted estimators */\n",
       "  --sklearn-color-fitted-level-0: #f0f8ff;\n",
       "  --sklearn-color-fitted-level-1: #d4ebff;\n",
       "  --sklearn-color-fitted-level-2: #b3dbfd;\n",
       "  --sklearn-color-fitted-level-3: cornflowerblue;\n",
       "\n",
       "  /* Specific color for light theme */\n",
       "  --sklearn-color-text-on-default-background: var(--sg-text-color, var(--theme-code-foreground, var(--jp-content-font-color1, black)));\n",
       "  --sklearn-color-background: var(--sg-background-color, var(--theme-background, var(--jp-layout-color0, white)));\n",
       "  --sklearn-color-border-box: var(--sg-text-color, var(--theme-code-foreground, var(--jp-content-font-color1, black)));\n",
       "  --sklearn-color-icon: #696969;\n",
       "\n",
       "  @media (prefers-color-scheme: dark) {\n",
       "    /* Redefinition of color scheme for dark theme */\n",
       "    --sklearn-color-text-on-default-background: var(--sg-text-color, var(--theme-code-foreground, var(--jp-content-font-color1, white)));\n",
       "    --sklearn-color-background: var(--sg-background-color, var(--theme-background, var(--jp-layout-color0, #111)));\n",
       "    --sklearn-color-border-box: var(--sg-text-color, var(--theme-code-foreground, var(--jp-content-font-color1, white)));\n",
       "    --sklearn-color-icon: #878787;\n",
       "  }\n",
       "}\n",
       "\n",
       "#sk-container-id-2 {\n",
       "  color: var(--sklearn-color-text);\n",
       "}\n",
       "\n",
       "#sk-container-id-2 pre {\n",
       "  padding: 0;\n",
       "}\n",
       "\n",
       "#sk-container-id-2 input.sk-hidden--visually {\n",
       "  border: 0;\n",
       "  clip: rect(1px 1px 1px 1px);\n",
       "  clip: rect(1px, 1px, 1px, 1px);\n",
       "  height: 1px;\n",
       "  margin: -1px;\n",
       "  overflow: hidden;\n",
       "  padding: 0;\n",
       "  position: absolute;\n",
       "  width: 1px;\n",
       "}\n",
       "\n",
       "#sk-container-id-2 div.sk-dashed-wrapped {\n",
       "  border: 1px dashed var(--sklearn-color-line);\n",
       "  margin: 0 0.4em 0.5em 0.4em;\n",
       "  box-sizing: border-box;\n",
       "  padding-bottom: 0.4em;\n",
       "  background-color: var(--sklearn-color-background);\n",
       "}\n",
       "\n",
       "#sk-container-id-2 div.sk-container {\n",
       "  /* jupyter's `normalize.less` sets `[hidden] { display: none; }`\n",
       "     but bootstrap.min.css set `[hidden] { display: none !important; }`\n",
       "     so we also need the `!important` here to be able to override the\n",
       "     default hidden behavior on the sphinx rendered scikit-learn.org.\n",
       "     See: https://github.com/scikit-learn/scikit-learn/issues/21755 */\n",
       "  display: inline-block !important;\n",
       "  position: relative;\n",
       "}\n",
       "\n",
       "#sk-container-id-2 div.sk-text-repr-fallback {\n",
       "  display: none;\n",
       "}\n",
       "\n",
       "div.sk-parallel-item,\n",
       "div.sk-serial,\n",
       "div.sk-item {\n",
       "  /* draw centered vertical line to link estimators */\n",
       "  background-image: linear-gradient(var(--sklearn-color-text-on-default-background), var(--sklearn-color-text-on-default-background));\n",
       "  background-size: 2px 100%;\n",
       "  background-repeat: no-repeat;\n",
       "  background-position: center center;\n",
       "}\n",
       "\n",
       "/* Parallel-specific style estimator block */\n",
       "\n",
       "#sk-container-id-2 div.sk-parallel-item::after {\n",
       "  content: \"\";\n",
       "  width: 100%;\n",
       "  border-bottom: 2px solid var(--sklearn-color-text-on-default-background);\n",
       "  flex-grow: 1;\n",
       "}\n",
       "\n",
       "#sk-container-id-2 div.sk-parallel {\n",
       "  display: flex;\n",
       "  align-items: stretch;\n",
       "  justify-content: center;\n",
       "  background-color: var(--sklearn-color-background);\n",
       "  position: relative;\n",
       "}\n",
       "\n",
       "#sk-container-id-2 div.sk-parallel-item {\n",
       "  display: flex;\n",
       "  flex-direction: column;\n",
       "}\n",
       "\n",
       "#sk-container-id-2 div.sk-parallel-item:first-child::after {\n",
       "  align-self: flex-end;\n",
       "  width: 50%;\n",
       "}\n",
       "\n",
       "#sk-container-id-2 div.sk-parallel-item:last-child::after {\n",
       "  align-self: flex-start;\n",
       "  width: 50%;\n",
       "}\n",
       "\n",
       "#sk-container-id-2 div.sk-parallel-item:only-child::after {\n",
       "  width: 0;\n",
       "}\n",
       "\n",
       "/* Serial-specific style estimator block */\n",
       "\n",
       "#sk-container-id-2 div.sk-serial {\n",
       "  display: flex;\n",
       "  flex-direction: column;\n",
       "  align-items: center;\n",
       "  background-color: var(--sklearn-color-background);\n",
       "  padding-right: 1em;\n",
       "  padding-left: 1em;\n",
       "}\n",
       "\n",
       "\n",
       "/* Toggleable style: style used for estimator/Pipeline/ColumnTransformer box that is\n",
       "clickable and can be expanded/collapsed.\n",
       "- Pipeline and ColumnTransformer use this feature and define the default style\n",
       "- Estimators will overwrite some part of the style using the `sk-estimator` class\n",
       "*/\n",
       "\n",
       "/* Pipeline and ColumnTransformer style (default) */\n",
       "\n",
       "#sk-container-id-2 div.sk-toggleable {\n",
       "  /* Default theme specific background. It is overwritten whether we have a\n",
       "  specific estimator or a Pipeline/ColumnTransformer */\n",
       "  background-color: var(--sklearn-color-background);\n",
       "}\n",
       "\n",
       "/* Toggleable label */\n",
       "#sk-container-id-2 label.sk-toggleable__label {\n",
       "  cursor: pointer;\n",
       "  display: block;\n",
       "  width: 100%;\n",
       "  margin-bottom: 0;\n",
       "  padding: 0.5em;\n",
       "  box-sizing: border-box;\n",
       "  text-align: center;\n",
       "}\n",
       "\n",
       "#sk-container-id-2 label.sk-toggleable__label-arrow:before {\n",
       "  /* Arrow on the left of the label */\n",
       "  content: \"▸\";\n",
       "  float: left;\n",
       "  margin-right: 0.25em;\n",
       "  color: var(--sklearn-color-icon);\n",
       "}\n",
       "\n",
       "#sk-container-id-2 label.sk-toggleable__label-arrow:hover:before {\n",
       "  color: var(--sklearn-color-text);\n",
       "}\n",
       "\n",
       "/* Toggleable content - dropdown */\n",
       "\n",
       "#sk-container-id-2 div.sk-toggleable__content {\n",
       "  max-height: 0;\n",
       "  max-width: 0;\n",
       "  overflow: hidden;\n",
       "  text-align: left;\n",
       "  /* unfitted */\n",
       "  background-color: var(--sklearn-color-unfitted-level-0);\n",
       "}\n",
       "\n",
       "#sk-container-id-2 div.sk-toggleable__content.fitted {\n",
       "  /* fitted */\n",
       "  background-color: var(--sklearn-color-fitted-level-0);\n",
       "}\n",
       "\n",
       "#sk-container-id-2 div.sk-toggleable__content pre {\n",
       "  margin: 0.2em;\n",
       "  border-radius: 0.25em;\n",
       "  color: var(--sklearn-color-text);\n",
       "  /* unfitted */\n",
       "  background-color: var(--sklearn-color-unfitted-level-0);\n",
       "}\n",
       "\n",
       "#sk-container-id-2 div.sk-toggleable__content.fitted pre {\n",
       "  /* unfitted */\n",
       "  background-color: var(--sklearn-color-fitted-level-0);\n",
       "}\n",
       "\n",
       "#sk-container-id-2 input.sk-toggleable__control:checked~div.sk-toggleable__content {\n",
       "  /* Expand drop-down */\n",
       "  max-height: 200px;\n",
       "  max-width: 100%;\n",
       "  overflow: auto;\n",
       "}\n",
       "\n",
       "#sk-container-id-2 input.sk-toggleable__control:checked~label.sk-toggleable__label-arrow:before {\n",
       "  content: \"▾\";\n",
       "}\n",
       "\n",
       "/* Pipeline/ColumnTransformer-specific style */\n",
       "\n",
       "#sk-container-id-2 div.sk-label input.sk-toggleable__control:checked~label.sk-toggleable__label {\n",
       "  color: var(--sklearn-color-text);\n",
       "  background-color: var(--sklearn-color-unfitted-level-2);\n",
       "}\n",
       "\n",
       "#sk-container-id-2 div.sk-label.fitted input.sk-toggleable__control:checked~label.sk-toggleable__label {\n",
       "  background-color: var(--sklearn-color-fitted-level-2);\n",
       "}\n",
       "\n",
       "/* Estimator-specific style */\n",
       "\n",
       "/* Colorize estimator box */\n",
       "#sk-container-id-2 div.sk-estimator input.sk-toggleable__control:checked~label.sk-toggleable__label {\n",
       "  /* unfitted */\n",
       "  background-color: var(--sklearn-color-unfitted-level-2);\n",
       "}\n",
       "\n",
       "#sk-container-id-2 div.sk-estimator.fitted input.sk-toggleable__control:checked~label.sk-toggleable__label {\n",
       "  /* fitted */\n",
       "  background-color: var(--sklearn-color-fitted-level-2);\n",
       "}\n",
       "\n",
       "#sk-container-id-2 div.sk-label label.sk-toggleable__label,\n",
       "#sk-container-id-2 div.sk-label label {\n",
       "  /* The background is the default theme color */\n",
       "  color: var(--sklearn-color-text-on-default-background);\n",
       "}\n",
       "\n",
       "/* On hover, darken the color of the background */\n",
       "#sk-container-id-2 div.sk-label:hover label.sk-toggleable__label {\n",
       "  color: var(--sklearn-color-text);\n",
       "  background-color: var(--sklearn-color-unfitted-level-2);\n",
       "}\n",
       "\n",
       "/* Label box, darken color on hover, fitted */\n",
       "#sk-container-id-2 div.sk-label.fitted:hover label.sk-toggleable__label.fitted {\n",
       "  color: var(--sklearn-color-text);\n",
       "  background-color: var(--sklearn-color-fitted-level-2);\n",
       "}\n",
       "\n",
       "/* Estimator label */\n",
       "\n",
       "#sk-container-id-2 div.sk-label label {\n",
       "  font-family: monospace;\n",
       "  font-weight: bold;\n",
       "  display: inline-block;\n",
       "  line-height: 1.2em;\n",
       "}\n",
       "\n",
       "#sk-container-id-2 div.sk-label-container {\n",
       "  text-align: center;\n",
       "}\n",
       "\n",
       "/* Estimator-specific */\n",
       "#sk-container-id-2 div.sk-estimator {\n",
       "  font-family: monospace;\n",
       "  border: 1px dotted var(--sklearn-color-border-box);\n",
       "  border-radius: 0.25em;\n",
       "  box-sizing: border-box;\n",
       "  margin-bottom: 0.5em;\n",
       "  /* unfitted */\n",
       "  background-color: var(--sklearn-color-unfitted-level-0);\n",
       "}\n",
       "\n",
       "#sk-container-id-2 div.sk-estimator.fitted {\n",
       "  /* fitted */\n",
       "  background-color: var(--sklearn-color-fitted-level-0);\n",
       "}\n",
       "\n",
       "/* on hover */\n",
       "#sk-container-id-2 div.sk-estimator:hover {\n",
       "  /* unfitted */\n",
       "  background-color: var(--sklearn-color-unfitted-level-2);\n",
       "}\n",
       "\n",
       "#sk-container-id-2 div.sk-estimator.fitted:hover {\n",
       "  /* fitted */\n",
       "  background-color: var(--sklearn-color-fitted-level-2);\n",
       "}\n",
       "\n",
       "/* Specification for estimator info (e.g. \"i\" and \"?\") */\n",
       "\n",
       "/* Common style for \"i\" and \"?\" */\n",
       "\n",
       ".sk-estimator-doc-link,\n",
       "a:link.sk-estimator-doc-link,\n",
       "a:visited.sk-estimator-doc-link {\n",
       "  float: right;\n",
       "  font-size: smaller;\n",
       "  line-height: 1em;\n",
       "  font-family: monospace;\n",
       "  background-color: var(--sklearn-color-background);\n",
       "  border-radius: 1em;\n",
       "  height: 1em;\n",
       "  width: 1em;\n",
       "  text-decoration: none !important;\n",
       "  margin-left: 1ex;\n",
       "  /* unfitted */\n",
       "  border: var(--sklearn-color-unfitted-level-1) 1pt solid;\n",
       "  color: var(--sklearn-color-unfitted-level-1);\n",
       "}\n",
       "\n",
       ".sk-estimator-doc-link.fitted,\n",
       "a:link.sk-estimator-doc-link.fitted,\n",
       "a:visited.sk-estimator-doc-link.fitted {\n",
       "  /* fitted */\n",
       "  border: var(--sklearn-color-fitted-level-1) 1pt solid;\n",
       "  color: var(--sklearn-color-fitted-level-1);\n",
       "}\n",
       "\n",
       "/* On hover */\n",
       "div.sk-estimator:hover .sk-estimator-doc-link:hover,\n",
       ".sk-estimator-doc-link:hover,\n",
       "div.sk-label-container:hover .sk-estimator-doc-link:hover,\n",
       ".sk-estimator-doc-link:hover {\n",
       "  /* unfitted */\n",
       "  background-color: var(--sklearn-color-unfitted-level-3);\n",
       "  color: var(--sklearn-color-background);\n",
       "  text-decoration: none;\n",
       "}\n",
       "\n",
       "div.sk-estimator.fitted:hover .sk-estimator-doc-link.fitted:hover,\n",
       ".sk-estimator-doc-link.fitted:hover,\n",
       "div.sk-label-container:hover .sk-estimator-doc-link.fitted:hover,\n",
       ".sk-estimator-doc-link.fitted:hover {\n",
       "  /* fitted */\n",
       "  background-color: var(--sklearn-color-fitted-level-3);\n",
       "  color: var(--sklearn-color-background);\n",
       "  text-decoration: none;\n",
       "}\n",
       "\n",
       "/* Span, style for the box shown on hovering the info icon */\n",
       ".sk-estimator-doc-link span {\n",
       "  display: none;\n",
       "  z-index: 9999;\n",
       "  position: relative;\n",
       "  font-weight: normal;\n",
       "  right: .2ex;\n",
       "  padding: .5ex;\n",
       "  margin: .5ex;\n",
       "  width: min-content;\n",
       "  min-width: 20ex;\n",
       "  max-width: 50ex;\n",
       "  color: var(--sklearn-color-text);\n",
       "  box-shadow: 2pt 2pt 4pt #999;\n",
       "  /* unfitted */\n",
       "  background: var(--sklearn-color-unfitted-level-0);\n",
       "  border: .5pt solid var(--sklearn-color-unfitted-level-3);\n",
       "}\n",
       "\n",
       ".sk-estimator-doc-link.fitted span {\n",
       "  /* fitted */\n",
       "  background: var(--sklearn-color-fitted-level-0);\n",
       "  border: var(--sklearn-color-fitted-level-3);\n",
       "}\n",
       "\n",
       ".sk-estimator-doc-link:hover span {\n",
       "  display: block;\n",
       "}\n",
       "\n",
       "/* \"?\"-specific style due to the `<a>` HTML tag */\n",
       "\n",
       "#sk-container-id-2 a.estimator_doc_link {\n",
       "  float: right;\n",
       "  font-size: 1rem;\n",
       "  line-height: 1em;\n",
       "  font-family: monospace;\n",
       "  background-color: var(--sklearn-color-background);\n",
       "  border-radius: 1rem;\n",
       "  height: 1rem;\n",
       "  width: 1rem;\n",
       "  text-decoration: none;\n",
       "  /* unfitted */\n",
       "  color: var(--sklearn-color-unfitted-level-1);\n",
       "  border: var(--sklearn-color-unfitted-level-1) 1pt solid;\n",
       "}\n",
       "\n",
       "#sk-container-id-2 a.estimator_doc_link.fitted {\n",
       "  /* fitted */\n",
       "  border: var(--sklearn-color-fitted-level-1) 1pt solid;\n",
       "  color: var(--sklearn-color-fitted-level-1);\n",
       "}\n",
       "\n",
       "/* On hover */\n",
       "#sk-container-id-2 a.estimator_doc_link:hover {\n",
       "  /* unfitted */\n",
       "  background-color: var(--sklearn-color-unfitted-level-3);\n",
       "  color: var(--sklearn-color-background);\n",
       "  text-decoration: none;\n",
       "}\n",
       "\n",
       "#sk-container-id-2 a.estimator_doc_link.fitted:hover {\n",
       "  /* fitted */\n",
       "  background-color: var(--sklearn-color-fitted-level-3);\n",
       "}\n",
       "</style><div id=\"sk-container-id-2\" class=\"sk-top-container\"><div class=\"sk-text-repr-fallback\"><pre>SVC(class_weight=&#x27;balanced&#x27;, random_state=42)</pre><b>In a Jupyter environment, please rerun this cell to show the HTML representation or trust the notebook. <br />On GitHub, the HTML representation is unable to render, please try loading this page with nbviewer.org.</b></div><div class=\"sk-container\" hidden><div class=\"sk-item\"><div class=\"sk-estimator fitted sk-toggleable\"><input class=\"sk-toggleable__control sk-hidden--visually\" id=\"sk-estimator-id-2\" type=\"checkbox\" checked><label for=\"sk-estimator-id-2\" class=\"sk-toggleable__label fitted sk-toggleable__label-arrow fitted\">&nbsp;&nbsp;SVC<a class=\"sk-estimator-doc-link fitted\" rel=\"noreferrer\" target=\"_blank\" href=\"https://scikit-learn.org/1.4/modules/generated/sklearn.svm.SVC.html\">?<span>Documentation for SVC</span></a><span class=\"sk-estimator-doc-link fitted\">i<span>Fitted</span></span></label><div class=\"sk-toggleable__content fitted\"><pre>SVC(class_weight=&#x27;balanced&#x27;, random_state=42)</pre></div> </div></div></div></div>"
      ],
      "text/plain": [
       "SVC(class_weight='balanced', random_state=42)"
      ]
     },
     "execution_count": 45,
     "metadata": {},
     "output_type": "execute_result"
    }
   ],
   "source": [
    "svm_model.fit(X_train, y_train)"
   ]
  },
  {
   "cell_type": "code",
   "execution_count": 49,
   "id": "3bbfa98290062522",
   "metadata": {
    "ExecuteTime": {
     "end_time": "2024-09-28T08:52:06.841004Z",
     "start_time": "2024-09-28T08:51:57.374372Z"
    }
   },
   "outputs": [
    {
     "name": "stdout",
     "output_type": "stream",
     "text": [
      "Accuracy: 0.9829\n",
      "Precision: 0.9835\n",
      "Recall: 0.9657\n",
      "F1: 0.9826\n",
      "Classification Report:\n",
      "              precision    recall  f1-score   support\n",
      "\n",
      "           0       0.97      1.00      0.98      5019\n",
      "           1       1.00      0.97      0.98      4991\n",
      "\n",
      "    accuracy                           0.98     10010\n",
      "   macro avg       0.98      0.98      0.98     10010\n",
      "weighted avg       0.98      0.98      0.98     10010\n",
      "\n"
     ]
    }
   ],
   "source": [
    "evaluate_model(svm_model, X_test, y_test)"
   ]
  },
  {
   "cell_type": "code",
   "execution_count": 50,
   "id": "f4f00721d5107d5a",
   "metadata": {
    "ExecuteTime": {
     "end_time": "2024-09-28T08:52:49.832262Z",
     "start_time": "2024-09-28T08:52:49.753325Z"
    }
   },
   "outputs": [],
   "source": [
    "from sklearn.linear_model import LogisticRegression\n",
    "from sklearn.neighbors import KNeighborsClassifier\n",
    "from sklearn.ensemble import RandomForestClassifier, AdaBoostClassifier\n",
    "from xgboost import XGBClassifier\n",
    "knn_model = KNeighborsClassifier(n_neighbors=7, weights='distance', metric='cosine')\n",
    "lr_model = LogisticRegression(max_iter=1000, C=1.0, solver='saga', class_weight='balanced', random_state=42)\n",
    "xgb_model = XGBClassifier(n_estimators=100, learning_rate=0.1, max_depth=6, eval_metric='mlogloss',random_state=42)\n",
    "rf_model = RandomForestClassifier(n_estimators=100, random_state=42)\n",
    "ada_model = AdaBoostClassifier(estimator=rf_model, algorithm='SAMME.R', n_estimators=50)"
   ]
  },
  {
   "cell_type": "code",
   "execution_count": 51,
   "id": "ade5c0a16b10fa95",
   "metadata": {
    "ExecuteTime": {
     "end_time": "2024-09-28T08:53:12.533670Z",
     "start_time": "2024-09-28T08:52:59.755775Z"
    }
   },
   "outputs": [
    {
     "name": "stdout",
     "output_type": "stream",
     "text": [
      "Accuracy: 0.9795\n",
      "Precision: 0.9796\n",
      "Recall: 0.9746\n",
      "F1: 0.9794\n",
      "Classification Report:\n",
      "              precision    recall  f1-score   support\n",
      "\n",
      "           0       0.97      0.98      0.98      5019\n",
      "           1       0.98      0.97      0.98      4991\n",
      "\n",
      "    accuracy                           0.98     10010\n",
      "   macro avg       0.98      0.98      0.98     10010\n",
      "weighted avg       0.98      0.98      0.98     10010\n",
      "\n"
     ]
    }
   ],
   "source": [
    "knn_model.fit(X_train, y_train)\n",
    "evaluate_model(knn_model, X_test, y_test)"
   ]
  },
  {
   "cell_type": "code",
   "execution_count": 52,
   "id": "11bc22327d0f6785",
   "metadata": {
    "ExecuteTime": {
     "end_time": "2024-09-28T09:00:52.539535Z",
     "start_time": "2024-09-28T08:53:12.538666Z"
    }
   },
   "outputs": [
    {
     "name": "stdout",
     "output_type": "stream",
     "text": [
      "Accuracy: 0.9827\n",
      "Precision: 0.9828\n",
      "Recall: 0.9750\n",
      "F1: 0.9825\n",
      "Classification Report:\n",
      "              precision    recall  f1-score   support\n",
      "\n",
      "           0       0.98      0.99      0.98      5019\n",
      "           1       0.99      0.97      0.98      4991\n",
      "\n",
      "    accuracy                           0.98     10010\n",
      "   macro avg       0.98      0.98      0.98     10010\n",
      "weighted avg       0.98      0.98      0.98     10010\n",
      "\n"
     ]
    },
    {
     "name": "stderr",
     "output_type": "stream",
     "text": [
      "D:\\anaconda3\\envs\\zh\\lib\\site-packages\\sklearn\\linear_model\\_sag.py:350: ConvergenceWarning: The max_iter was reached which means the coef_ did not converge\n",
      "  warnings.warn(\n"
     ]
    }
   ],
   "source": [
    "lr_model.fit(X_train, y_train)\n",
    "evaluate_model(lr_model, X_test, y_test)"
   ]
  },
  {
   "cell_type": "code",
   "execution_count": 53,
   "id": "89be1f94fe864e9",
   "metadata": {
    "ExecuteTime": {
     "end_time": "2024-09-28T09:02:54.447678Z",
     "start_time": "2024-09-28T09:02:54.169629Z"
    }
   },
   "outputs": [],
   "source": [
    "save_model(knn_model,\"machine_model_pt/knn_model.pkl\")"
   ]
  },
  {
   "cell_type": "code",
   "execution_count": 54,
   "id": "9ab15002aa404850",
   "metadata": {
    "ExecuteTime": {
     "end_time": "2024-09-28T09:02:54.915423Z",
     "start_time": "2024-09-28T09:02:54.902430Z"
    }
   },
   "outputs": [],
   "source": [
    "save_model(lr_model,\"machine_model_pt/lr_model.pkl\")"
   ]
  },
  {
   "cell_type": "code",
   "execution_count": 55,
   "id": "a8ecf79836b77b65",
   "metadata": {
    "ExecuteTime": {
     "end_time": "2024-09-28T09:02:55.631004Z",
     "start_time": "2024-09-28T09:02:55.588027Z"
    }
   },
   "outputs": [],
   "source": [
    "save_model(svm_model,\"machine_model_pt/svm_model.pkl\")"
   ]
  },
  {
   "cell_type": "code",
   "execution_count": 56,
   "id": "e0d742a85b116c79",
   "metadata": {
    "ExecuteTime": {
     "end_time": "2024-09-28T09:03:14.868669Z",
     "start_time": "2024-09-28T09:02:56.523797Z"
    }
   },
   "outputs": [
    {
     "name": "stdout",
     "output_type": "stream",
     "text": [
      "Accuracy: 0.9800\n",
      "Precision: 0.9801\n",
      "Recall: 0.9724\n",
      "F1: 0.9798\n",
      "Classification Report:\n",
      "              precision    recall  f1-score   support\n",
      "\n",
      "           0       0.97      0.99      0.98      5019\n",
      "           1       0.99      0.97      0.98      4991\n",
      "\n",
      "    accuracy                           0.98     10010\n",
      "   macro avg       0.98      0.98      0.98     10010\n",
      "weighted avg       0.98      0.98      0.98     10010\n",
      "\n"
     ]
    }
   ],
   "source": [
    "xgb_model.fit(X_train, y_train)\n",
    "evaluate_model(xgb_model, X_test, y_test)"
   ]
  },
  {
   "cell_type": "code",
   "execution_count": 57,
   "id": "14ca90d6706bc766",
   "metadata": {
    "ExecuteTime": {
     "end_time": "2024-09-28T09:03:14.883312Z",
     "start_time": "2024-09-28T09:03:14.871668Z"
    }
   },
   "outputs": [],
   "source": [
    "save_model(xgb_model,\"machine_model_pt/xgb_model.pkl\")"
   ]
  },
  {
   "cell_type": "code",
   "execution_count": 58,
   "id": "804f8676ca5b26c5",
   "metadata": {
    "ExecuteTime": {
     "end_time": "2024-09-28T10:29:00.953476Z",
     "start_time": "2024-09-28T09:03:14.885310Z"
    }
   },
   "outputs": [
    {
     "name": "stderr",
     "output_type": "stream",
     "text": [
      "D:\\anaconda3\\envs\\zh\\lib\\site-packages\\sklearn\\ensemble\\_weight_boosting.py:519: FutureWarning: The SAMME.R algorithm (the default) is deprecated and will be removed in 1.6. Use the SAMME algorithm to circumvent this warning.\n",
      "  warnings.warn(\n"
     ]
    },
    {
     "name": "stdout",
     "output_type": "stream",
     "text": [
      "Accuracy: 0.9789\n",
      "Precision: 0.9792\n",
      "Recall: 0.9657\n",
      "F1: 0.9786\n",
      "Classification Report:\n",
      "              precision    recall  f1-score   support\n",
      "\n",
      "           0       0.97      0.99      0.98      5019\n",
      "           1       0.99      0.97      0.98      4991\n",
      "\n",
      "    accuracy                           0.98     10010\n",
      "   macro avg       0.98      0.98      0.98     10010\n",
      "weighted avg       0.98      0.98      0.98     10010\n",
      "\n"
     ]
    }
   ],
   "source": [
    "ada_model.fit(X_train, y_train)\n",
    "evaluate_model(ada_model, X_test, y_test)"
   ]
  },
  {
   "cell_type": "code",
   "execution_count": 59,
   "id": "db507abaebbffb56",
   "metadata": {
    "ExecuteTime": {
     "end_time": "2024-09-28T10:29:04.569850Z",
     "start_time": "2024-09-28T10:29:00.957495Z"
    }
   },
   "outputs": [],
   "source": [
    "save_model(ada_model,\"machine_model_pt/ada_model.pkl\")"
   ]
  },
  {
   "cell_type": "code",
   "execution_count": null,
   "id": "dd6b690d07ff9de8",
   "metadata": {},
   "outputs": [],
   "source": []
  }
 ],
 "metadata": {
  "kernelspec": {
   "display_name": "Python 3 (ipykernel)",
   "language": "python",
   "name": "python3"
  },
  "language_info": {
   "codemirror_mode": {
    "name": "ipython",
    "version": 3
   },
   "file_extension": ".py",
   "mimetype": "text/x-python",
   "name": "python",
   "nbconvert_exporter": "python",
   "pygments_lexer": "ipython3",
   "version": "3.8.19"
  }
 },
 "nbformat": 4,
 "nbformat_minor": 5
}
